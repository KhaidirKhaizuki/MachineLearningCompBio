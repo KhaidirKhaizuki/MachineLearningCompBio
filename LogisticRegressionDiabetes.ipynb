{
 "cells": [
  {
   "cell_type": "code",
   "execution_count": 1,
   "metadata": {},
   "outputs": [],
   "source": [
    "import pandas as pd\n",
    "from matplotlib import pyplot as plt\n",
    "%matplotlib inline"
   ]
  },
  {
   "cell_type": "code",
   "execution_count": 7,
   "metadata": {},
   "outputs": [
    {
     "data": {
      "text/html": [
       "<div>\n",
       "<style scoped>\n",
       "    .dataframe tbody tr th:only-of-type {\n",
       "        vertical-align: middle;\n",
       "    }\n",
       "\n",
       "    .dataframe tbody tr th {\n",
       "        vertical-align: top;\n",
       "    }\n",
       "\n",
       "    .dataframe thead th {\n",
       "        text-align: right;\n",
       "    }\n",
       "</style>\n",
       "<table border=\"1\" class=\"dataframe\">\n",
       "  <thead>\n",
       "    <tr style=\"text-align: right;\">\n",
       "      <th></th>\n",
       "      <th>Pregnancies</th>\n",
       "      <th>Glucose</th>\n",
       "      <th>BloodPressure</th>\n",
       "      <th>SkinThickness</th>\n",
       "      <th>Insulin</th>\n",
       "      <th>BMI</th>\n",
       "      <th>DiabetesPedigreeFunction</th>\n",
       "      <th>Age</th>\n",
       "      <th>Outcome</th>\n",
       "    </tr>\n",
       "  </thead>\n",
       "  <tbody>\n",
       "    <tr>\n",
       "      <th>0</th>\n",
       "      <td>6</td>\n",
       "      <td>148</td>\n",
       "      <td>72</td>\n",
       "      <td>35</td>\n",
       "      <td>0</td>\n",
       "      <td>33.6</td>\n",
       "      <td>0.627</td>\n",
       "      <td>50</td>\n",
       "      <td>1</td>\n",
       "    </tr>\n",
       "    <tr>\n",
       "      <th>1</th>\n",
       "      <td>1</td>\n",
       "      <td>85</td>\n",
       "      <td>66</td>\n",
       "      <td>29</td>\n",
       "      <td>0</td>\n",
       "      <td>26.6</td>\n",
       "      <td>0.351</td>\n",
       "      <td>31</td>\n",
       "      <td>0</td>\n",
       "    </tr>\n",
       "    <tr>\n",
       "      <th>2</th>\n",
       "      <td>8</td>\n",
       "      <td>183</td>\n",
       "      <td>64</td>\n",
       "      <td>0</td>\n",
       "      <td>0</td>\n",
       "      <td>23.3</td>\n",
       "      <td>0.672</td>\n",
       "      <td>32</td>\n",
       "      <td>1</td>\n",
       "    </tr>\n",
       "    <tr>\n",
       "      <th>3</th>\n",
       "      <td>1</td>\n",
       "      <td>89</td>\n",
       "      <td>66</td>\n",
       "      <td>23</td>\n",
       "      <td>94</td>\n",
       "      <td>28.1</td>\n",
       "      <td>0.167</td>\n",
       "      <td>21</td>\n",
       "      <td>0</td>\n",
       "    </tr>\n",
       "    <tr>\n",
       "      <th>4</th>\n",
       "      <td>0</td>\n",
       "      <td>137</td>\n",
       "      <td>40</td>\n",
       "      <td>35</td>\n",
       "      <td>168</td>\n",
       "      <td>43.1</td>\n",
       "      <td>2.288</td>\n",
       "      <td>33</td>\n",
       "      <td>1</td>\n",
       "    </tr>\n",
       "    <tr>\n",
       "      <th>...</th>\n",
       "      <td>...</td>\n",
       "      <td>...</td>\n",
       "      <td>...</td>\n",
       "      <td>...</td>\n",
       "      <td>...</td>\n",
       "      <td>...</td>\n",
       "      <td>...</td>\n",
       "      <td>...</td>\n",
       "      <td>...</td>\n",
       "    </tr>\n",
       "    <tr>\n",
       "      <th>763</th>\n",
       "      <td>10</td>\n",
       "      <td>101</td>\n",
       "      <td>76</td>\n",
       "      <td>48</td>\n",
       "      <td>180</td>\n",
       "      <td>32.9</td>\n",
       "      <td>0.171</td>\n",
       "      <td>63</td>\n",
       "      <td>0</td>\n",
       "    </tr>\n",
       "    <tr>\n",
       "      <th>764</th>\n",
       "      <td>2</td>\n",
       "      <td>122</td>\n",
       "      <td>70</td>\n",
       "      <td>27</td>\n",
       "      <td>0</td>\n",
       "      <td>36.8</td>\n",
       "      <td>0.340</td>\n",
       "      <td>27</td>\n",
       "      <td>0</td>\n",
       "    </tr>\n",
       "    <tr>\n",
       "      <th>765</th>\n",
       "      <td>5</td>\n",
       "      <td>121</td>\n",
       "      <td>72</td>\n",
       "      <td>23</td>\n",
       "      <td>112</td>\n",
       "      <td>26.2</td>\n",
       "      <td>0.245</td>\n",
       "      <td>30</td>\n",
       "      <td>0</td>\n",
       "    </tr>\n",
       "    <tr>\n",
       "      <th>766</th>\n",
       "      <td>1</td>\n",
       "      <td>126</td>\n",
       "      <td>60</td>\n",
       "      <td>0</td>\n",
       "      <td>0</td>\n",
       "      <td>30.1</td>\n",
       "      <td>0.349</td>\n",
       "      <td>47</td>\n",
       "      <td>1</td>\n",
       "    </tr>\n",
       "    <tr>\n",
       "      <th>767</th>\n",
       "      <td>1</td>\n",
       "      <td>93</td>\n",
       "      <td>70</td>\n",
       "      <td>31</td>\n",
       "      <td>0</td>\n",
       "      <td>30.4</td>\n",
       "      <td>0.315</td>\n",
       "      <td>23</td>\n",
       "      <td>0</td>\n",
       "    </tr>\n",
       "  </tbody>\n",
       "</table>\n",
       "<p>768 rows × 9 columns</p>\n",
       "</div>"
      ],
      "text/plain": [
       "     Pregnancies  Glucose  BloodPressure  SkinThickness  Insulin   BMI  \\\n",
       "0              6      148             72             35        0  33.6   \n",
       "1              1       85             66             29        0  26.6   \n",
       "2              8      183             64              0        0  23.3   \n",
       "3              1       89             66             23       94  28.1   \n",
       "4              0      137             40             35      168  43.1   \n",
       "..           ...      ...            ...            ...      ...   ...   \n",
       "763           10      101             76             48      180  32.9   \n",
       "764            2      122             70             27        0  36.8   \n",
       "765            5      121             72             23      112  26.2   \n",
       "766            1      126             60              0        0  30.1   \n",
       "767            1       93             70             31        0  30.4   \n",
       "\n",
       "     DiabetesPedigreeFunction  Age  Outcome  \n",
       "0                       0.627   50        1  \n",
       "1                       0.351   31        0  \n",
       "2                       0.672   32        1  \n",
       "3                       0.167   21        0  \n",
       "4                       2.288   33        1  \n",
       "..                        ...  ...      ...  \n",
       "763                     0.171   63        0  \n",
       "764                     0.340   27        0  \n",
       "765                     0.245   30        0  \n",
       "766                     0.349   47        1  \n",
       "767                     0.315   23        0  \n",
       "\n",
       "[768 rows x 9 columns]"
      ]
     },
     "execution_count": 7,
     "metadata": {},
     "output_type": "execute_result"
    }
   ],
   "source": [
    "df = pd.read_csv(\"diabetes.csv\")\n",
    "df.head(768)\n"
   ]
  },
  {
   "cell_type": "code",
   "execution_count": 3,
   "metadata": {},
   "outputs": [
    {
     "data": {
      "text/plain": [
       "<matplotlib.collections.PathCollection at 0x1e090f9a0a0>"
      ]
     },
     "execution_count": 3,
     "metadata": {},
     "output_type": "execute_result"
    },
    {
     "data": {
      "image/png": "[encoded data removed]",
      "text/plain": [
       "<Figure size 432x288 with 1 Axes>"
      ]
     },
     "metadata": {
      "needs_background": "light"
     },
     "output_type": "display_data"
    }
   ],
   "source": [
    "plt.scatter(df.Age,df.Outcome,marker='+',color='red')"
   ]
  },
  {
   "cell_type": "code",
   "execution_count": 8,
   "metadata": {},
   "outputs": [],
   "source": [
    "from sklearn.model_selection import train_test_split"
   ]
  },
  {
   "cell_type": "code",
   "execution_count": 9,
   "metadata": {},
   "outputs": [],
   "source": [
    "X_train, X_test, y_train, y_test = train_test_split(df[['Age']],df.Outcome,train_size=0.8)"
   ]
  },
  {
   "cell_type": "code",
   "execution_count": 10,
   "metadata": {},
   "outputs": [
    {
     "data": {
      "text/html": [
       "<div>\n",
       "<style scoped>\n",
       "    .dataframe tbody tr th:only-of-type {\n",
       "        vertical-align: middle;\n",
       "    }\n",
       "\n",
       "    .dataframe tbody tr th {\n",
       "        vertical-align: top;\n",
       "    }\n",
       "\n",
       "    .dataframe thead th {\n",
       "        text-align: right;\n",
       "    }\n",
       "</style>\n",
       "<table border=\"1\" class=\"dataframe\">\n",
       "  <thead>\n",
       "    <tr style=\"text-align: right;\">\n",
       "      <th></th>\n",
       "      <th>Age</th>\n",
       "    </tr>\n",
       "  </thead>\n",
       "  <tbody>\n",
       "    <tr>\n",
       "      <th>102</th>\n",
       "      <td>21</td>\n",
       "    </tr>\n",
       "    <tr>\n",
       "      <th>516</th>\n",
       "      <td>53</td>\n",
       "    </tr>\n",
       "    <tr>\n",
       "      <th>354</th>\n",
       "      <td>21</td>\n",
       "    </tr>\n",
       "    <tr>\n",
       "      <th>44</th>\n",
       "      <td>40</td>\n",
       "    </tr>\n",
       "    <tr>\n",
       "      <th>72</th>\n",
       "      <td>42</td>\n",
       "    </tr>\n",
       "    <tr>\n",
       "      <th>...</th>\n",
       "      <td>...</td>\n",
       "    </tr>\n",
       "    <tr>\n",
       "      <th>514</th>\n",
       "      <td>24</td>\n",
       "    </tr>\n",
       "    <tr>\n",
       "      <th>42</th>\n",
       "      <td>48</td>\n",
       "    </tr>\n",
       "    <tr>\n",
       "      <th>697</th>\n",
       "      <td>22</td>\n",
       "    </tr>\n",
       "    <tr>\n",
       "      <th>181</th>\n",
       "      <td>23</td>\n",
       "    </tr>\n",
       "    <tr>\n",
       "      <th>592</th>\n",
       "      <td>44</td>\n",
       "    </tr>\n",
       "  </tbody>\n",
       "</table>\n",
       "<p>154 rows × 1 columns</p>\n",
       "</div>"
      ],
      "text/plain": [
       "     Age\n",
       "102   21\n",
       "516   53\n",
       "354   21\n",
       "44    40\n",
       "72    42\n",
       "..   ...\n",
       "514   24\n",
       "42    48\n",
       "697   22\n",
       "181   23\n",
       "592   44\n",
       "\n",
       "[154 rows x 1 columns]"
      ]
     },
     "execution_count": 10,
     "metadata": {},
     "output_type": "execute_result"
    }
   ],
   "source": [
    "X_test"
   ]
  },
  {
   "cell_type": "code",
   "execution_count": 11,
   "metadata": {},
   "outputs": [],
   "source": [
    "from sklearn.linear_model import LogisticRegression\n",
    "model = LogisticRegression()"
   ]
  },
  {
   "cell_type": "code",
   "execution_count": 12,
   "metadata": {},
   "outputs": [
    {
     "data": {
      "text/plain": [
       "LogisticRegression()"
      ]
     },
     "execution_count": 12,
     "metadata": {},
     "output_type": "execute_result"
    }
   ],
   "source": [
    "model.fit(X_train, y_train)"
   ]
  },
  {
   "cell_type": "code",
   "execution_count": 13,
   "metadata": {},
   "outputs": [
    {
     "data": {
      "text/html": [
       "<div>\n",
       "<style scoped>\n",
       "    .dataframe tbody tr th:only-of-type {\n",
       "        vertical-align: middle;\n",
       "    }\n",
       "\n",
       "    .dataframe tbody tr th {\n",
       "        vertical-align: top;\n",
       "    }\n",
       "\n",
       "    .dataframe thead th {\n",
       "        text-align: right;\n",
       "    }\n",
       "</style>\n",
       "<table border=\"1\" class=\"dataframe\">\n",
       "  <thead>\n",
       "    <tr style=\"text-align: right;\">\n",
       "      <th></th>\n",
       "      <th>Age</th>\n",
       "    </tr>\n",
       "  </thead>\n",
       "  <tbody>\n",
       "    <tr>\n",
       "      <th>102</th>\n",
       "      <td>21</td>\n",
       "    </tr>\n",
       "    <tr>\n",
       "      <th>516</th>\n",
       "      <td>53</td>\n",
       "    </tr>\n",
       "    <tr>\n",
       "      <th>354</th>\n",
       "      <td>21</td>\n",
       "    </tr>\n",
       "    <tr>\n",
       "      <th>44</th>\n",
       "      <td>40</td>\n",
       "    </tr>\n",
       "    <tr>\n",
       "      <th>72</th>\n",
       "      <td>42</td>\n",
       "    </tr>\n",
       "    <tr>\n",
       "      <th>...</th>\n",
       "      <td>...</td>\n",
       "    </tr>\n",
       "    <tr>\n",
       "      <th>514</th>\n",
       "      <td>24</td>\n",
       "    </tr>\n",
       "    <tr>\n",
       "      <th>42</th>\n",
       "      <td>48</td>\n",
       "    </tr>\n",
       "    <tr>\n",
       "      <th>697</th>\n",
       "      <td>22</td>\n",
       "    </tr>\n",
       "    <tr>\n",
       "      <th>181</th>\n",
       "      <td>23</td>\n",
       "    </tr>\n",
       "    <tr>\n",
       "      <th>592</th>\n",
       "      <td>44</td>\n",
       "    </tr>\n",
       "  </tbody>\n",
       "</table>\n",
       "<p>154 rows × 1 columns</p>\n",
       "</div>"
      ],
      "text/plain": [
       "     Age\n",
       "102   21\n",
       "516   53\n",
       "354   21\n",
       "44    40\n",
       "72    42\n",
       "..   ...\n",
       "514   24\n",
       "42    48\n",
       "697   22\n",
       "181   23\n",
       "592   44\n",
       "\n",
       "[154 rows x 1 columns]"
      ]
     },
     "execution_count": 13,
     "metadata": {},
     "output_type": "execute_result"
    }
   ],
   "source": [
    "X_test"
   ]
  },
  {
   "cell_type": "code",
   "execution_count": 14,
   "metadata": {},
   "outputs": [],
   "source": [
    "y_predicted = model.predict(X_test)"
   ]
  },
  {
   "cell_type": "code",
   "execution_count": 15,
   "metadata": {},
   "outputs": [
    {
     "data": {
      "text/plain": [
       "array([[0.74995692, 0.25004308],\n",
       "       [0.46079844, 0.53920156],\n",
       "       [0.74995692, 0.25004308],\n",
       "       [0.58732615, 0.41267385],\n",
       "       [0.56818585, 0.43181415],\n",
       "       [0.74252765, 0.25747235],\n",
       "       [0.56818585, 0.43181415],\n",
       "       [0.68665017, 0.31334983],\n",
       "       [0.66078637, 0.33921363],\n",
       "       [0.37513697, 0.62486303],\n",
       "       [0.71140322, 0.28859678],\n",
       "       [0.48034531, 0.51965469],\n",
       "       [0.72724279, 0.27275721],\n",
       "       [0.71140322, 0.28859678],\n",
       "       [0.71939117, 0.28060883],\n",
       "       [0.558535  , 0.441465  ],\n",
       "       [0.74252765, 0.25747235],\n",
       "       [0.65193731, 0.34806269],\n",
       "       [0.74995692, 0.25004308],\n",
       "       [0.41258184, 0.58741816],\n",
       "       [0.74252765, 0.25747235],\n",
       "       [0.74995692, 0.25004308],\n",
       "       [0.62477403, 0.37522597],\n",
       "       [0.49995254, 0.50004746],\n",
       "       [0.73495567, 0.26504433],\n",
       "       [0.74252765, 0.25747235],\n",
       "       [0.41258184, 0.58741816],\n",
       "       [0.48034531, 0.51965469],\n",
       "       [0.71140322, 0.28859678],\n",
       "       [0.71939117, 0.28060883],\n",
       "       [0.56818585, 0.43181415],\n",
       "       [0.74252765, 0.25747235],\n",
       "       [0.74995692, 0.25004308],\n",
       "       [0.52934483, 0.47065517],\n",
       "       [0.67814718, 0.32185282],\n",
       "       [0.49014514, 0.50985486],\n",
       "       [0.74995692, 0.25004308],\n",
       "       [0.72724279, 0.27275721],\n",
       "       [0.74995692, 0.25004308],\n",
       "       [0.74252765, 0.25747235],\n",
       "       [0.49014514, 0.50985486],\n",
       "       [0.74252765, 0.25747235],\n",
       "       [0.67814718, 0.32185282],\n",
       "       [0.28851884, 0.71148116],\n",
       "       [0.69502954, 0.30497046],\n",
       "       [0.71140322, 0.28859678],\n",
       "       [0.70328167, 0.29671833],\n",
       "       [0.58732615, 0.41267385],\n",
       "       [0.74252765, 0.25747235],\n",
       "       [0.68665017, 0.31334983],\n",
       "       [0.71140322, 0.28859678],\n",
       "       [0.53910723, 0.46089277],\n",
       "       [0.67814718, 0.32185282],\n",
       "       [0.6695245 , 0.3304755 ],\n",
       "       [0.74252765, 0.25747235],\n",
       "       [0.67814718, 0.32185282],\n",
       "       [0.65193731, 0.34806269],\n",
       "       [0.69502954, 0.30497046],\n",
       "       [0.72724279, 0.27275721],\n",
       "       [0.70328167, 0.29671833],\n",
       "       [0.56818585, 0.43181415],\n",
       "       [0.71140322, 0.28859678],\n",
       "       [0.73495567, 0.26504433],\n",
       "       [0.71939117, 0.28060883],\n",
       "       [0.74995692, 0.25004308],\n",
       "       [0.62477403, 0.37522597],\n",
       "       [0.53910723, 0.46089277],\n",
       "       [0.71939117, 0.28060883],\n",
       "       [0.69502954, 0.30497046],\n",
       "       [0.22171481, 0.77828519],\n",
       "       [0.63392591, 0.36607409],\n",
       "       [0.52934483, 0.47065517],\n",
       "       [0.69502954, 0.30497046],\n",
       "       [0.62477403, 0.37522597],\n",
       "       [0.71939117, 0.28060883],\n",
       "       [0.5777852 , 0.4222148 ],\n",
       "       [0.558535  , 0.441465  ],\n",
       "       [0.72724279, 0.27275721],\n",
       "       [0.56818585, 0.43181415],\n",
       "       [0.74995692, 0.25004308],\n",
       "       [0.52934483, 0.47065517],\n",
       "       [0.63392591, 0.36607409],\n",
       "       [0.74252765, 0.25747235],\n",
       "       [0.69502954, 0.30497046],\n",
       "       [0.46079844, 0.53920156],\n",
       "       [0.56818585, 0.43181415],\n",
       "       [0.64298212, 0.35701788],\n",
       "       [0.53910723, 0.46089277],\n",
       "       [0.6695245 , 0.3304755 ],\n",
       "       [0.74252765, 0.25747235],\n",
       "       [0.73495567, 0.26504433],\n",
       "       [0.71939117, 0.28060883],\n",
       "       [0.56818585, 0.43181415],\n",
       "       [0.71140322, 0.28859678],\n",
       "       [0.73495567, 0.26504433],\n",
       "       [0.73495567, 0.26504433],\n",
       "       [0.74252765, 0.25747235],\n",
       "       [0.71140322, 0.28859678],\n",
       "       [0.72724279, 0.27275721],\n",
       "       [0.65193731, 0.34806269],\n",
       "       [0.67814718, 0.32185282],\n",
       "       [0.63392591, 0.36607409],\n",
       "       [0.71140322, 0.28859678],\n",
       "       [0.72724279, 0.27275721],\n",
       "       [0.67814718, 0.32185282],\n",
       "       [0.56818585, 0.43181415],\n",
       "       [0.74252765, 0.25747235],\n",
       "       [0.69502954, 0.30497046],\n",
       "       [0.53910723, 0.46089277],\n",
       "       [0.60620606, 0.39379394],\n",
       "       [0.56818585, 0.43181415],\n",
       "       [0.74252765, 0.25747235],\n",
       "       [0.74252765, 0.25747235],\n",
       "       [0.67814718, 0.32185282],\n",
       "       [0.74252765, 0.25747235],\n",
       "       [0.46079844, 0.53920156],\n",
       "       [0.68665017, 0.31334983],\n",
       "       [0.67814718, 0.32185282],\n",
       "       [0.52934483, 0.47065517],\n",
       "       [0.72724279, 0.27275721],\n",
       "       [0.74252765, 0.25747235],\n",
       "       [0.74252765, 0.25747235],\n",
       "       [0.59680195, 0.40319805],\n",
       "       [0.71939117, 0.28060883],\n",
       "       [0.69502954, 0.30497046],\n",
       "       [0.68665017, 0.31334983],\n",
       "       [0.70328167, 0.29671833],\n",
       "       [0.44137139, 0.55862861],\n",
       "       [0.61553212, 0.38446788],\n",
       "       [0.68665017, 0.31334983],\n",
       "       [0.71939117, 0.28060883],\n",
       "       [0.41258184, 0.58741816],\n",
       "       [0.72724279, 0.27275721],\n",
       "       [0.68665017, 0.31334983],\n",
       "       [0.49014514, 0.50985486],\n",
       "       [0.61553212, 0.38446788],\n",
       "       [0.69502954, 0.30497046],\n",
       "       [0.71140322, 0.28859678],\n",
       "       [0.74252765, 0.25747235],\n",
       "       [0.68665017, 0.31334983],\n",
       "       [0.58732615, 0.41267385],\n",
       "       [0.69502954, 0.30497046],\n",
       "       [0.61553212, 0.38446788],\n",
       "       [0.49014514, 0.50985486],\n",
       "       [0.74252765, 0.25747235],\n",
       "       [0.44137139, 0.55862861],\n",
       "       [0.70328167, 0.29671833],\n",
       "       [0.74252765, 0.25747235],\n",
       "       [0.73495567, 0.26504433],\n",
       "       [0.72724279, 0.27275721],\n",
       "       [0.50975999, 0.49024001],\n",
       "       [0.74252765, 0.25747235],\n",
       "       [0.73495567, 0.26504433],\n",
       "       [0.54883973, 0.45116027]])"
      ]
     },
     "execution_count": 15,
     "metadata": {},
     "output_type": "execute_result"
    }
   ],
   "source": [
    "model.predict_proba(X_test)"
   ]
  },
  {
   "cell_type": "code",
   "execution_count": 16,
   "metadata": {},
   "outputs": [
    {
     "data": {
      "text/plain": [
       "0.7077922077922078"
      ]
     },
     "execution_count": 16,
     "metadata": {},
     "output_type": "execute_result"
    }
   ],
   "source": [
    "model.score(X_test,y_test)"
   ]
  },
  {
   "cell_type": "code",
   "execution_count": 17,
   "metadata": {},
   "outputs": [
    {
     "data": {
      "text/plain": [
       "array([0, 1, 0, 0, 0, 0, 0, 0, 0, 1, 0, 1, 0, 0, 0, 0, 0, 0, 0, 1, 0, 0,\n",
       "       0, 1, 0, 0, 1, 1, 0, 0, 0, 0, 0, 0, 0, 1, 0, 0, 0, 0, 1, 0, 0, 1,\n",
       "       0, 0, 0, 0, 0, 0, 0, 0, 0, 0, 0, 0, 0, 0, 0, 0, 0, 0, 0, 0, 0, 0,\n",
       "       0, 0, 0, 1, 0, 0, 0, 0, 0, 0, 0, 0, 0, 0, 0, 0, 0, 0, 1, 0, 0, 0,\n",
       "       0, 0, 0, 0, 0, 0, 0, 0, 0, 0, 0, 0, 0, 0, 0, 0, 0, 0, 0, 0, 0, 0,\n",
       "       0, 0, 0, 0, 0, 1, 0, 0, 0, 0, 0, 0, 0, 0, 0, 0, 0, 1, 0, 0, 0, 1,\n",
       "       0, 0, 1, 0, 0, 0, 0, 0, 0, 0, 0, 1, 0, 1, 0, 0, 0, 0, 0, 0, 0, 0],\n",
       "      dtype=int64)"
      ]
     },
     "execution_count": 17,
     "metadata": {},
     "output_type": "execute_result"
    }
   ],
   "source": [
    "y_predicted"
   ]
  },
  {
   "cell_type": "code",
   "execution_count": 18,
   "metadata": {},
   "outputs": [
    {
     "data": {
      "text/plain": [
       "array([[0.03923473]])"
      ]
     },
     "execution_count": 18,
     "metadata": {},
     "output_type": "execute_result"
    }
   ],
   "source": [
    "model.coef_"
   ]
  },
  {
   "cell_type": "code",
   "execution_count": 19,
   "metadata": {},
   "outputs": [
    {
     "data": {
      "text/plain": [
       "array([-1.92231178])"
      ]
     },
     "execution_count": 19,
     "metadata": {},
     "output_type": "execute_result"
    }
   ],
   "source": [
    "model.intercept_"
   ]
  },
  {
   "cell_type": "code",
   "execution_count": 21,
   "metadata": {},
   "outputs": [],
   "source": [
    "import math\n",
    "def sigmoid(x):\n",
    "  return 1 / (1 + math.exp(-x))"
   ]
  },
  {
   "cell_type": "code",
   "execution_count": 22,
   "metadata": {},
   "outputs": [],
   "source": [
    "def prediction_function(Age):\n",
    "    z = 0.042 * Age - 1.53 # 0.04150133 ~ 0.042 and -1.52726963 ~ -1.53\n",
    "    y = sigmoid(z)\n",
    "    return y"
   ]
  },
  {
   "cell_type": "code",
   "execution_count": 23,
   "metadata": {},
   "outputs": [
    {
     "data": {
      "text/plain": [
       "0.4850044983805899"
      ]
     },
     "execution_count": 23,
     "metadata": {},
     "output_type": "execute_result"
    }
   ],
   "source": [
    "age = 35\n",
    "prediction_function(age)"
   ]
  },
  {
   "cell_type": "code",
   "execution_count": 24,
   "metadata": {},
   "outputs": [
    {
     "data": {
      "text/plain": [
       "0.6856801139382539"
      ]
     },
     "execution_count": 24,
     "metadata": {},
     "output_type": "execute_result"
    }
   ],
   "source": [
    "age = 55\n",
    "prediction_function(age)"
   ]
  },
  {
   "cell_type": "code",
   "execution_count": null,
   "metadata": {},
   "outputs": [],
   "source": []
  }
 ],
 "metadata": {
  "kernelspec": {
   "display_name": "Python 3",
   "language": "python",
   "name": "python3"
  },
  "language_info": {
   "codemirror_mode": {
    "name": "ipython",
    "version": 3
   },
   "file_extension": ".py",
   "mimetype": "text/x-python",
   "name": "python",
   "nbconvert_exporter": "python",
   "pygments_lexer": "ipython3",
   "version": "3.8.5"
  }
 },
 "nbformat": 4,
 "nbformat_minor": 4
}
