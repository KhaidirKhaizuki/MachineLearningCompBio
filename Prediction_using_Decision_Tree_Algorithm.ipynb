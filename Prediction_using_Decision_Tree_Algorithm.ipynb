{
  "nbformat": 4,
  "nbformat_minor": 0,
  "metadata": {
    "colab": {
      "name": "Prediction-using-Decision-Tree-Algorithm.ipynb",
      "provenance": []
    },
    "kernelspec": {
      "name": "python3",
      "display_name": "Python 3"
    },
    "language_info": {
      "name": "python"
    }
  },
  "cells": [
    {
      "cell_type": "code",
      "source": [
        "!pip install --upgrade scikit-learn==0.20.3\n"
      ],
      "metadata": {
        "colab": {
          "base_uri": "https://localhost:8080/"
        },
        "id": "0UedLf7IrmDB",
        "outputId": "944dedee-3fdf-46ec-ed70-d4106c680e1a"
      },
      "execution_count": null,
      "outputs": [
        {
          "output_type": "stream",
          "name": "stdout",
          "text": [
            "Requirement already satisfied: scikit-learn==0.20.3 in /usr/local/lib/python3.7/dist-packages (0.20.3)\n",
            "Requirement already satisfied: numpy>=1.8.2 in /usr/local/lib/python3.7/dist-packages (from scikit-learn==0.20.3) (1.21.5)\n",
            "Requirement already satisfied: scipy>=0.13.3 in /usr/local/lib/python3.7/dist-packages (from scikit-learn==0.20.3) (1.4.1)\n"
          ]
        }
      ]
    },
    {
      "cell_type": "code",
      "execution_count": null,
      "metadata": {
        "id": "FbJWN7CjrIG2"
      },
      "outputs": [],
      "source": [
        "import pandas as pd\n",
        "import numpy as np\n",
        "import seaborn as sns\n",
        "import matplotlib.pyplot as plt"
      ]
    },
    {
      "cell_type": "code",
      "source": [
        "virus =pd.read_csv('/content/drive/MyDrive/Colab Notebooks/Covid.csv')\n",
        "virus"
      ],
      "metadata": {
        "colab": {
          "base_uri": "https://localhost:8080/",
          "height": 1000
        },
        "id": "1_pfzLcRthmR",
        "outputId": "72767f30-a92e-42d4-bab3-24de33898c76"
      },
      "execution_count": null,
      "outputs": [
        {
          "output_type": "execute_result",
          "data": {
            "text/plain": [
              "    Nucleus  Exosome  Ribosome  Membrane  Endoplasmic Reticulum  Cytosol  \\\n",
              "0     0.999    1.000     0.720     0.840                  0.450    0.000   \n",
              "1     0.999    1.000     0.737     0.834                  0.492    0.000   \n",
              "2     0.999    1.000     0.729     0.831                  0.497    0.000   \n",
              "3     0.999    1.000     0.724     0.831                  0.496    0.000   \n",
              "4     0.999    1.000     0.644     0.818                  0.271    0.000   \n",
              "5     0.998    1.000     0.641     0.805                  0.323    0.000   \n",
              "6     0.999    1.000     0.725     0.846                  0.422    0.000   \n",
              "7     0.999    1.000     0.722     0.847                  0.432    0.000   \n",
              "8     0.999    1.000     0.717     0.842                  0.448    0.000   \n",
              "9     0.999    1.000     0.729     0.845                  0.442    0.000   \n",
              "10    0.999    1.000     0.729     0.843                  0.455    0.000   \n",
              "11    0.999    1.000     0.722     0.840                  0.467    0.000   \n",
              "12    0.999    1.000     0.715     0.841                  0.455    0.000   \n",
              "13    0.803    0.998     0.000     0.389                  0.000    0.000   \n",
              "14    0.955    1.000     0.000     0.623                  0.248    0.000   \n",
              "15    0.948    1.000     0.000     0.676                  0.240    0.000   \n",
              "16    0.954    1.000     0.000     0.621                  0.249    0.000   \n",
              "17    0.980    1.000     0.000     0.759                  0.000    0.000   \n",
              "18    0.980    1.000     0.000     0.759                  0.000    0.000   \n",
              "19    0.980    1.000     0.000     0.759                  0.000    0.000   \n",
              "20    0.979    1.000     0.000     0.765                  0.000    0.000   \n",
              "21    0.979    1.000     0.000     0.765                  0.000    0.000   \n",
              "22    0.978    1.000     0.000     0.764                  0.000    0.000   \n",
              "23    0.978    1.000     0.000     0.763                  0.000    0.000   \n",
              "24    0.978    1.000     0.000     0.762                  0.000    0.000   \n",
              "25    0.978    1.000     0.000     0.760                  0.000    0.000   \n",
              "26    0.977    1.000     0.000     0.758                  0.000    0.000   \n",
              "27    0.979    1.000     0.000     0.763                  0.000    0.000   \n",
              "28    0.977    1.000     0.000     0.758                  0.000    0.000   \n",
              "29    0.978    1.000     0.000     0.759                  0.000    0.000   \n",
              "30    0.978    1.000     0.000     0.762                  0.000    0.000   \n",
              "31    0.972    1.000     0.000     0.739                  0.237    0.000   \n",
              "32    0.949    1.000     0.000     0.730                  0.000    0.000   \n",
              "33    0.597    1.000     0.000     0.840                  0.497    0.000   \n",
              "34    0.998    1.000     0.729     0.817                  0.387    0.000   \n",
              "35    0.999    1.000     0.818     0.802                  0.681    0.107   \n",
              "36    0.895    0.996     0.000     0.355                  0.346    0.088   \n",
              "37    0.870    0.997     0.303     0.428                  0.197    0.095   \n",
              "38    0.821    0.994     0.328     0.328                  0.233    0.080   \n",
              "39    0.980    1.000     0.239     0.747                  0.078    0.100   \n",
              "40    0.870    0.997     0.303     0.428                  0.197    0.095   \n",
              "41    0.870    0.997     0.303     0.428                  0.197    0.097   \n",
              "42    0.996    1.000     0.322     0.866                  0.077    0.124   \n",
              "43    0.992    1.000     0.273     0.832                  0.069    0.106   \n",
              "44    0.977    1.000     0.223     0.744                  0.084    0.095   \n",
              "45    0.966    1.000     0.276     0.674                  0.113    0.101   \n",
              "46    0.996    1.000     0.313     0.864                  0.078    0.119   \n",
              "\n",
              "    Variant  \n",
              "0     Alpha  \n",
              "1     Alpha  \n",
              "2     Alpha  \n",
              "3     Alpha  \n",
              "4     Alpha  \n",
              "5     Alpha  \n",
              "6      Beta  \n",
              "7      Beta  \n",
              "8      Beta  \n",
              "9      Beta  \n",
              "10     Beta  \n",
              "11     Beta  \n",
              "12     Beta  \n",
              "13     Beta  \n",
              "14    Delta  \n",
              "15    Delta  \n",
              "16    Delta  \n",
              "17    Delta  \n",
              "18    Delta  \n",
              "19    Delta  \n",
              "20    Gamma  \n",
              "21    Gamma  \n",
              "22    Gamma  \n",
              "23    Gamma  \n",
              "24    Gamma  \n",
              "25    Gamma  \n",
              "26    Gamma  \n",
              "27    Gamma  \n",
              "28    Gamma  \n",
              "29    Gamma  \n",
              "30    Gamma  \n",
              "31  Omicron  \n",
              "32  Omicron  \n",
              "33    Alpha  \n",
              "34    Alpha  \n",
              "35    Alpha  \n",
              "36    Alpha  \n",
              "37     Beta  \n",
              "38     Beta  \n",
              "39     Beta  \n",
              "40     Beta  \n",
              "41     Beta  \n",
              "42     Beta  \n",
              "43     Beta  \n",
              "44     Beta  \n",
              "45     Beta  \n",
              "46     Beta  "
            ],
            "text/html": [
              "\n",
              "  <div id=\"df-21abab66-085c-4533-91b0-020762190933\">\n",
              "    <div class=\"colab-df-container\">\n",
              "      <div>\n",
              "<style scoped>\n",
              "    .dataframe tbody tr th:only-of-type {\n",
              "        vertical-align: middle;\n",
              "    }\n",
              "\n",
              "    .dataframe tbody tr th {\n",
              "        vertical-align: top;\n",
              "    }\n",
              "\n",
              "    .dataframe thead th {\n",
              "        text-align: right;\n",
              "    }\n",
              "</style>\n",
              "<table border=\"1\" class=\"dataframe\">\n",
              "  <thead>\n",
              "    <tr style=\"text-align: right;\">\n",
              "      <th></th>\n",
              "      <th>Nucleus</th>\n",
              "      <th>Exosome</th>\n",
              "      <th>Ribosome</th>\n",
              "      <th>Membrane</th>\n",
              "      <th>Endoplasmic Reticulum</th>\n",
              "      <th>Cytosol</th>\n",
              "      <th>Variant</th>\n",
              "    </tr>\n",
              "  </thead>\n",
              "  <tbody>\n",
              "    <tr>\n",
              "      <th>0</th>\n",
              "      <td>0.999</td>\n",
              "      <td>1.000</td>\n",
              "      <td>0.720</td>\n",
              "      <td>0.840</td>\n",
              "      <td>0.450</td>\n",
              "      <td>0.000</td>\n",
              "      <td>Alpha</td>\n",
              "    </tr>\n",
              "    <tr>\n",
              "      <th>1</th>\n",
              "      <td>0.999</td>\n",
              "      <td>1.000</td>\n",
              "      <td>0.737</td>\n",
              "      <td>0.834</td>\n",
              "      <td>0.492</td>\n",
              "      <td>0.000</td>\n",
              "      <td>Alpha</td>\n",
              "    </tr>\n",
              "    <tr>\n",
              "      <th>2</th>\n",
              "      <td>0.999</td>\n",
              "      <td>1.000</td>\n",
              "      <td>0.729</td>\n",
              "      <td>0.831</td>\n",
              "      <td>0.497</td>\n",
              "      <td>0.000</td>\n",
              "      <td>Alpha</td>\n",
              "    </tr>\n",
              "    <tr>\n",
              "      <th>3</th>\n",
              "      <td>0.999</td>\n",
              "      <td>1.000</td>\n",
              "      <td>0.724</td>\n",
              "      <td>0.831</td>\n",
              "      <td>0.496</td>\n",
              "      <td>0.000</td>\n",
              "      <td>Alpha</td>\n",
              "    </tr>\n",
              "    <tr>\n",
              "      <th>4</th>\n",
              "      <td>0.999</td>\n",
              "      <td>1.000</td>\n",
              "      <td>0.644</td>\n",
              "      <td>0.818</td>\n",
              "      <td>0.271</td>\n",
              "      <td>0.000</td>\n",
              "      <td>Alpha</td>\n",
              "    </tr>\n",
              "    <tr>\n",
              "      <th>5</th>\n",
              "      <td>0.998</td>\n",
              "      <td>1.000</td>\n",
              "      <td>0.641</td>\n",
              "      <td>0.805</td>\n",
              "      <td>0.323</td>\n",
              "      <td>0.000</td>\n",
              "      <td>Alpha</td>\n",
              "    </tr>\n",
              "    <tr>\n",
              "      <th>6</th>\n",
              "      <td>0.999</td>\n",
              "      <td>1.000</td>\n",
              "      <td>0.725</td>\n",
              "      <td>0.846</td>\n",
              "      <td>0.422</td>\n",
              "      <td>0.000</td>\n",
              "      <td>Beta</td>\n",
              "    </tr>\n",
              "    <tr>\n",
              "      <th>7</th>\n",
              "      <td>0.999</td>\n",
              "      <td>1.000</td>\n",
              "      <td>0.722</td>\n",
              "      <td>0.847</td>\n",
              "      <td>0.432</td>\n",
              "      <td>0.000</td>\n",
              "      <td>Beta</td>\n",
              "    </tr>\n",
              "    <tr>\n",
              "      <th>8</th>\n",
              "      <td>0.999</td>\n",
              "      <td>1.000</td>\n",
              "      <td>0.717</td>\n",
              "      <td>0.842</td>\n",
              "      <td>0.448</td>\n",
              "      <td>0.000</td>\n",
              "      <td>Beta</td>\n",
              "    </tr>\n",
              "    <tr>\n",
              "      <th>9</th>\n",
              "      <td>0.999</td>\n",
              "      <td>1.000</td>\n",
              "      <td>0.729</td>\n",
              "      <td>0.845</td>\n",
              "      <td>0.442</td>\n",
              "      <td>0.000</td>\n",
              "      <td>Beta</td>\n",
              "    </tr>\n",
              "    <tr>\n",
              "      <th>10</th>\n",
              "      <td>0.999</td>\n",
              "      <td>1.000</td>\n",
              "      <td>0.729</td>\n",
              "      <td>0.843</td>\n",
              "      <td>0.455</td>\n",
              "      <td>0.000</td>\n",
              "      <td>Beta</td>\n",
              "    </tr>\n",
              "    <tr>\n",
              "      <th>11</th>\n",
              "      <td>0.999</td>\n",
              "      <td>1.000</td>\n",
              "      <td>0.722</td>\n",
              "      <td>0.840</td>\n",
              "      <td>0.467</td>\n",
              "      <td>0.000</td>\n",
              "      <td>Beta</td>\n",
              "    </tr>\n",
              "    <tr>\n",
              "      <th>12</th>\n",
              "      <td>0.999</td>\n",
              "      <td>1.000</td>\n",
              "      <td>0.715</td>\n",
              "      <td>0.841</td>\n",
              "      <td>0.455</td>\n",
              "      <td>0.000</td>\n",
              "      <td>Beta</td>\n",
              "    </tr>\n",
              "    <tr>\n",
              "      <th>13</th>\n",
              "      <td>0.803</td>\n",
              "      <td>0.998</td>\n",
              "      <td>0.000</td>\n",
              "      <td>0.389</td>\n",
              "      <td>0.000</td>\n",
              "      <td>0.000</td>\n",
              "      <td>Beta</td>\n",
              "    </tr>\n",
              "    <tr>\n",
              "      <th>14</th>\n",
              "      <td>0.955</td>\n",
              "      <td>1.000</td>\n",
              "      <td>0.000</td>\n",
              "      <td>0.623</td>\n",
              "      <td>0.248</td>\n",
              "      <td>0.000</td>\n",
              "      <td>Delta</td>\n",
              "    </tr>\n",
              "    <tr>\n",
              "      <th>15</th>\n",
              "      <td>0.948</td>\n",
              "      <td>1.000</td>\n",
              "      <td>0.000</td>\n",
              "      <td>0.676</td>\n",
              "      <td>0.240</td>\n",
              "      <td>0.000</td>\n",
              "      <td>Delta</td>\n",
              "    </tr>\n",
              "    <tr>\n",
              "      <th>16</th>\n",
              "      <td>0.954</td>\n",
              "      <td>1.000</td>\n",
              "      <td>0.000</td>\n",
              "      <td>0.621</td>\n",
              "      <td>0.249</td>\n",
              "      <td>0.000</td>\n",
              "      <td>Delta</td>\n",
              "    </tr>\n",
              "    <tr>\n",
              "      <th>17</th>\n",
              "      <td>0.980</td>\n",
              "      <td>1.000</td>\n",
              "      <td>0.000</td>\n",
              "      <td>0.759</td>\n",
              "      <td>0.000</td>\n",
              "      <td>0.000</td>\n",
              "      <td>Delta</td>\n",
              "    </tr>\n",
              "    <tr>\n",
              "      <th>18</th>\n",
              "      <td>0.980</td>\n",
              "      <td>1.000</td>\n",
              "      <td>0.000</td>\n",
              "      <td>0.759</td>\n",
              "      <td>0.000</td>\n",
              "      <td>0.000</td>\n",
              "      <td>Delta</td>\n",
              "    </tr>\n",
              "    <tr>\n",
              "      <th>19</th>\n",
              "      <td>0.980</td>\n",
              "      <td>1.000</td>\n",
              "      <td>0.000</td>\n",
              "      <td>0.759</td>\n",
              "      <td>0.000</td>\n",
              "      <td>0.000</td>\n",
              "      <td>Delta</td>\n",
              "    </tr>\n",
              "    <tr>\n",
              "      <th>20</th>\n",
              "      <td>0.979</td>\n",
              "      <td>1.000</td>\n",
              "      <td>0.000</td>\n",
              "      <td>0.765</td>\n",
              "      <td>0.000</td>\n",
              "      <td>0.000</td>\n",
              "      <td>Gamma</td>\n",
              "    </tr>\n",
              "    <tr>\n",
              "      <th>21</th>\n",
              "      <td>0.979</td>\n",
              "      <td>1.000</td>\n",
              "      <td>0.000</td>\n",
              "      <td>0.765</td>\n",
              "      <td>0.000</td>\n",
              "      <td>0.000</td>\n",
              "      <td>Gamma</td>\n",
              "    </tr>\n",
              "    <tr>\n",
              "      <th>22</th>\n",
              "      <td>0.978</td>\n",
              "      <td>1.000</td>\n",
              "      <td>0.000</td>\n",
              "      <td>0.764</td>\n",
              "      <td>0.000</td>\n",
              "      <td>0.000</td>\n",
              "      <td>Gamma</td>\n",
              "    </tr>\n",
              "    <tr>\n",
              "      <th>23</th>\n",
              "      <td>0.978</td>\n",
              "      <td>1.000</td>\n",
              "      <td>0.000</td>\n",
              "      <td>0.763</td>\n",
              "      <td>0.000</td>\n",
              "      <td>0.000</td>\n",
              "      <td>Gamma</td>\n",
              "    </tr>\n",
              "    <tr>\n",
              "      <th>24</th>\n",
              "      <td>0.978</td>\n",
              "      <td>1.000</td>\n",
              "      <td>0.000</td>\n",
              "      <td>0.762</td>\n",
              "      <td>0.000</td>\n",
              "      <td>0.000</td>\n",
              "      <td>Gamma</td>\n",
              "    </tr>\n",
              "    <tr>\n",
              "      <th>25</th>\n",
              "      <td>0.978</td>\n",
              "      <td>1.000</td>\n",
              "      <td>0.000</td>\n",
              "      <td>0.760</td>\n",
              "      <td>0.000</td>\n",
              "      <td>0.000</td>\n",
              "      <td>Gamma</td>\n",
              "    </tr>\n",
              "    <tr>\n",
              "      <th>26</th>\n",
              "      <td>0.977</td>\n",
              "      <td>1.000</td>\n",
              "      <td>0.000</td>\n",
              "      <td>0.758</td>\n",
              "      <td>0.000</td>\n",
              "      <td>0.000</td>\n",
              "      <td>Gamma</td>\n",
              "    </tr>\n",
              "    <tr>\n",
              "      <th>27</th>\n",
              "      <td>0.979</td>\n",
              "      <td>1.000</td>\n",
              "      <td>0.000</td>\n",
              "      <td>0.763</td>\n",
              "      <td>0.000</td>\n",
              "      <td>0.000</td>\n",
              "      <td>Gamma</td>\n",
              "    </tr>\n",
              "    <tr>\n",
              "      <th>28</th>\n",
              "      <td>0.977</td>\n",
              "      <td>1.000</td>\n",
              "      <td>0.000</td>\n",
              "      <td>0.758</td>\n",
              "      <td>0.000</td>\n",
              "      <td>0.000</td>\n",
              "      <td>Gamma</td>\n",
              "    </tr>\n",
              "    <tr>\n",
              "      <th>29</th>\n",
              "      <td>0.978</td>\n",
              "      <td>1.000</td>\n",
              "      <td>0.000</td>\n",
              "      <td>0.759</td>\n",
              "      <td>0.000</td>\n",
              "      <td>0.000</td>\n",
              "      <td>Gamma</td>\n",
              "    </tr>\n",
              "    <tr>\n",
              "      <th>30</th>\n",
              "      <td>0.978</td>\n",
              "      <td>1.000</td>\n",
              "      <td>0.000</td>\n",
              "      <td>0.762</td>\n",
              "      <td>0.000</td>\n",
              "      <td>0.000</td>\n",
              "      <td>Gamma</td>\n",
              "    </tr>\n",
              "    <tr>\n",
              "      <th>31</th>\n",
              "      <td>0.972</td>\n",
              "      <td>1.000</td>\n",
              "      <td>0.000</td>\n",
              "      <td>0.739</td>\n",
              "      <td>0.237</td>\n",
              "      <td>0.000</td>\n",
              "      <td>Omicron</td>\n",
              "    </tr>\n",
              "    <tr>\n",
              "      <th>32</th>\n",
              "      <td>0.949</td>\n",
              "      <td>1.000</td>\n",
              "      <td>0.000</td>\n",
              "      <td>0.730</td>\n",
              "      <td>0.000</td>\n",
              "      <td>0.000</td>\n",
              "      <td>Omicron</td>\n",
              "    </tr>\n",
              "    <tr>\n",
              "      <th>33</th>\n",
              "      <td>0.597</td>\n",
              "      <td>1.000</td>\n",
              "      <td>0.000</td>\n",
              "      <td>0.840</td>\n",
              "      <td>0.497</td>\n",
              "      <td>0.000</td>\n",
              "      <td>Alpha</td>\n",
              "    </tr>\n",
              "    <tr>\n",
              "      <th>34</th>\n",
              "      <td>0.998</td>\n",
              "      <td>1.000</td>\n",
              "      <td>0.729</td>\n",
              "      <td>0.817</td>\n",
              "      <td>0.387</td>\n",
              "      <td>0.000</td>\n",
              "      <td>Alpha</td>\n",
              "    </tr>\n",
              "    <tr>\n",
              "      <th>35</th>\n",
              "      <td>0.999</td>\n",
              "      <td>1.000</td>\n",
              "      <td>0.818</td>\n",
              "      <td>0.802</td>\n",
              "      <td>0.681</td>\n",
              "      <td>0.107</td>\n",
              "      <td>Alpha</td>\n",
              "    </tr>\n",
              "    <tr>\n",
              "      <th>36</th>\n",
              "      <td>0.895</td>\n",
              "      <td>0.996</td>\n",
              "      <td>0.000</td>\n",
              "      <td>0.355</td>\n",
              "      <td>0.346</td>\n",
              "      <td>0.088</td>\n",
              "      <td>Alpha</td>\n",
              "    </tr>\n",
              "    <tr>\n",
              "      <th>37</th>\n",
              "      <td>0.870</td>\n",
              "      <td>0.997</td>\n",
              "      <td>0.303</td>\n",
              "      <td>0.428</td>\n",
              "      <td>0.197</td>\n",
              "      <td>0.095</td>\n",
              "      <td>Beta</td>\n",
              "    </tr>\n",
              "    <tr>\n",
              "      <th>38</th>\n",
              "      <td>0.821</td>\n",
              "      <td>0.994</td>\n",
              "      <td>0.328</td>\n",
              "      <td>0.328</td>\n",
              "      <td>0.233</td>\n",
              "      <td>0.080</td>\n",
              "      <td>Beta</td>\n",
              "    </tr>\n",
              "    <tr>\n",
              "      <th>39</th>\n",
              "      <td>0.980</td>\n",
              "      <td>1.000</td>\n",
              "      <td>0.239</td>\n",
              "      <td>0.747</td>\n",
              "      <td>0.078</td>\n",
              "      <td>0.100</td>\n",
              "      <td>Beta</td>\n",
              "    </tr>\n",
              "    <tr>\n",
              "      <th>40</th>\n",
              "      <td>0.870</td>\n",
              "      <td>0.997</td>\n",
              "      <td>0.303</td>\n",
              "      <td>0.428</td>\n",
              "      <td>0.197</td>\n",
              "      <td>0.095</td>\n",
              "      <td>Beta</td>\n",
              "    </tr>\n",
              "    <tr>\n",
              "      <th>41</th>\n",
              "      <td>0.870</td>\n",
              "      <td>0.997</td>\n",
              "      <td>0.303</td>\n",
              "      <td>0.428</td>\n",
              "      <td>0.197</td>\n",
              "      <td>0.097</td>\n",
              "      <td>Beta</td>\n",
              "    </tr>\n",
              "    <tr>\n",
              "      <th>42</th>\n",
              "      <td>0.996</td>\n",
              "      <td>1.000</td>\n",
              "      <td>0.322</td>\n",
              "      <td>0.866</td>\n",
              "      <td>0.077</td>\n",
              "      <td>0.124</td>\n",
              "      <td>Beta</td>\n",
              "    </tr>\n",
              "    <tr>\n",
              "      <th>43</th>\n",
              "      <td>0.992</td>\n",
              "      <td>1.000</td>\n",
              "      <td>0.273</td>\n",
              "      <td>0.832</td>\n",
              "      <td>0.069</td>\n",
              "      <td>0.106</td>\n",
              "      <td>Beta</td>\n",
              "    </tr>\n",
              "    <tr>\n",
              "      <th>44</th>\n",
              "      <td>0.977</td>\n",
              "      <td>1.000</td>\n",
              "      <td>0.223</td>\n",
              "      <td>0.744</td>\n",
              "      <td>0.084</td>\n",
              "      <td>0.095</td>\n",
              "      <td>Beta</td>\n",
              "    </tr>\n",
              "    <tr>\n",
              "      <th>45</th>\n",
              "      <td>0.966</td>\n",
              "      <td>1.000</td>\n",
              "      <td>0.276</td>\n",
              "      <td>0.674</td>\n",
              "      <td>0.113</td>\n",
              "      <td>0.101</td>\n",
              "      <td>Beta</td>\n",
              "    </tr>\n",
              "    <tr>\n",
              "      <th>46</th>\n",
              "      <td>0.996</td>\n",
              "      <td>1.000</td>\n",
              "      <td>0.313</td>\n",
              "      <td>0.864</td>\n",
              "      <td>0.078</td>\n",
              "      <td>0.119</td>\n",
              "      <td>Beta</td>\n",
              "    </tr>\n",
              "  </tbody>\n",
              "</table>\n",
              "</div>\n",
              "      <button class=\"colab-df-convert\" onclick=\"convertToInteractive('df-21abab66-085c-4533-91b0-020762190933')\"\n",
              "              title=\"Convert this dataframe to an interactive table.\"\n",
              "              style=\"display:none;\">\n",
              "        \n",
              "  <svg xmlns=\"http://www.w3.org/2000/svg\" height=\"24px\"viewBox=\"0 0 24 24\"\n",
              "       width=\"24px\">\n",
              "    <path d=\"M0 0h24v24H0V0z\" fill=\"none\"/>\n",
              "    <path d=\"M18.56 5.44l.94 2.06.94-2.06 2.06-.94-2.06-.94-.94-2.06-.94 2.06-2.06.94zm-11 1L8.5 8.5l.94-2.06 2.06-.94-2.06-.94L8.5 2.5l-.94 2.06-2.06.94zm10 10l.94 2.06.94-2.06 2.06-.94-2.06-.94-.94-2.06-.94 2.06-2.06.94z\"/><path d=\"M17.41 7.96l-1.37-1.37c-.4-.4-.92-.59-1.43-.59-.52 0-1.04.2-1.43.59L10.3 9.45l-7.72 7.72c-.78.78-.78 2.05 0 2.83L4 21.41c.39.39.9.59 1.41.59.51 0 1.02-.2 1.41-.59l7.78-7.78 2.81-2.81c.8-.78.8-2.07 0-2.86zM5.41 20L4 18.59l7.72-7.72 1.47 1.35L5.41 20z\"/>\n",
              "  </svg>\n",
              "      </button>\n",
              "      \n",
              "  <style>\n",
              "    .colab-df-container {\n",
              "      display:flex;\n",
              "      flex-wrap:wrap;\n",
              "      gap: 12px;\n",
              "    }\n",
              "\n",
              "    .colab-df-convert {\n",
              "      background-color: #E8F0FE;\n",
              "      border: none;\n",
              "      border-radius: 50%;\n",
              "      cursor: pointer;\n",
              "      display: none;\n",
              "      fill: #1967D2;\n",
              "      height: 32px;\n",
              "      padding: 0 0 0 0;\n",
              "      width: 32px;\n",
              "    }\n",
              "\n",
              "    .colab-df-convert:hover {\n",
              "      background-color: #E2EBFA;\n",
              "      box-shadow: 0px 1px 2px rgba(60, 64, 67, 0.3), 0px 1px 3px 1px rgba(60, 64, 67, 0.15);\n",
              "      fill: #174EA6;\n",
              "    }\n",
              "\n",
              "    [theme=dark] .colab-df-convert {\n",
              "      background-color: #3B4455;\n",
              "      fill: #D2E3FC;\n",
              "    }\n",
              "\n",
              "    [theme=dark] .colab-df-convert:hover {\n",
              "      background-color: #434B5C;\n",
              "      box-shadow: 0px 1px 3px 1px rgba(0, 0, 0, 0.15);\n",
              "      filter: drop-shadow(0px 1px 2px rgba(0, 0, 0, 0.3));\n",
              "      fill: #FFFFFF;\n",
              "    }\n",
              "  </style>\n",
              "\n",
              "      <script>\n",
              "        const buttonEl =\n",
              "          document.querySelector('#df-21abab66-085c-4533-91b0-020762190933 button.colab-df-convert');\n",
              "        buttonEl.style.display =\n",
              "          google.colab.kernel.accessAllowed ? 'block' : 'none';\n",
              "\n",
              "        async function convertToInteractive(key) {\n",
              "          const element = document.querySelector('#df-21abab66-085c-4533-91b0-020762190933');\n",
              "          const dataTable =\n",
              "            await google.colab.kernel.invokeFunction('convertToInteractive',\n",
              "                                                     [key], {});\n",
              "          if (!dataTable) return;\n",
              "\n",
              "          const docLinkHtml = 'Like what you see? Visit the ' +\n",
              "            '<a target=\"_blank\" href=https://colab.research.google.com/notebooks/data_table.ipynb>data table notebook</a>'\n",
              "            + ' to learn more about interactive tables.';\n",
              "          element.innerHTML = '';\n",
              "          dataTable['output_type'] = 'display_data';\n",
              "          await google.colab.output.renderOutput(dataTable, element);\n",
              "          const docLink = document.createElement('div');\n",
              "          docLink.innerHTML = docLinkHtml;\n",
              "          element.appendChild(docLink);\n",
              "        }\n",
              "      </script>\n",
              "    </div>\n",
              "  </div>\n",
              "  "
            ]
          },
          "metadata": {},
          "execution_count": 5
        }
      ]
    },
    {
      "cell_type": "code",
      "source": [
        "virus.info()"
      ],
      "metadata": {
        "colab": {
          "base_uri": "https://localhost:8080/"
        },
        "id": "jd6qNjz-tvaX",
        "outputId": "55e39acf-74a1-449b-fc1e-e1fea352d3cf"
      },
      "execution_count": null,
      "outputs": [
        {
          "output_type": "stream",
          "name": "stdout",
          "text": [
            "<class 'pandas.core.frame.DataFrame'>\n",
            "RangeIndex: 47 entries, 0 to 46\n",
            "Data columns (total 7 columns):\n",
            " #   Column                 Non-Null Count  Dtype  \n",
            "---  ------                 --------------  -----  \n",
            " 0   Nucleus                47 non-null     float64\n",
            " 1   Exosome                47 non-null     float64\n",
            " 2   Ribosome               47 non-null     float64\n",
            " 3   Membrane               47 non-null     float64\n",
            " 4   Endoplasmic Reticulum  47 non-null     float64\n",
            " 5   Cytosol                47 non-null     float64\n",
            " 6   Variant                47 non-null     object \n",
            "dtypes: float64(6), object(1)\n",
            "memory usage: 2.7+ KB\n"
          ]
        }
      ]
    },
    {
      "cell_type": "code",
      "source": [
        "virus.Variant.value_counts()"
      ],
      "metadata": {
        "colab": {
          "base_uri": "https://localhost:8080/"
        },
        "id": "uMX3z3Qatxmo",
        "outputId": "f12e26cf-b98f-4fd4-9ade-d7d2df47f3ec"
      },
      "execution_count": null,
      "outputs": [
        {
          "output_type": "execute_result",
          "data": {
            "text/plain": [
              "Beta       18\n",
              "Gamma      11\n",
              "Alpha      10\n",
              "Delta       6\n",
              "Omicron     2\n",
              "Name: Variant, dtype: int64"
            ]
          },
          "metadata": {},
          "execution_count": 8
        }
      ]
    },
    {
      "cell_type": "code",
      "source": [
        "virus.Variant.value_counts()"
      ],
      "metadata": {
        "colab": {
          "base_uri": "https://localhost:8080/"
        },
        "id": "ImCWyItUt8jg",
        "outputId": "6332d87c-74e3-4693-c0bc-c783c9b4153e"
      },
      "execution_count": null,
      "outputs": [
        {
          "output_type": "execute_result",
          "data": {
            "text/plain": [
              "Index(['Nucleus', 'Exosome', 'Ribosome', 'Membrane', 'Endoplasmic Reticulum',\n",
              "       'Cytosol', 'Variant'],\n",
              "      dtype='object')"
            ]
          },
          "metadata": {},
          "execution_count": 9
        }
      ]
    },
    {
      "cell_type": "code",
      "source": [
        "#variant class declaration according to number\n",
        "virus['Variant_class']=np.where(virus.Variant=='Alpha',1,np.where(virus.Variant=='Beta',2,np.where(virus.Variant=='Delta',3,np.where(virus.Variant=='Omicron',4,5))))"
      ],
      "metadata": {
        "id": "i7p7dpl5unux"
      },
      "execution_count": null,
      "outputs": []
    },
    {
      "cell_type": "code",
      "source": [
        "virus.Variant_class.value_counts()"
      ],
      "metadata": {
        "colab": {
          "base_uri": "https://localhost:8080/"
        },
        "id": "ZKCG_PcXwXJK",
        "outputId": "edc5a28a-aef0-49f2-d7b0-cf41714aa677"
      },
      "execution_count": null,
      "outputs": [
        {
          "output_type": "execute_result",
          "data": {
            "text/plain": [
              "2    18\n",
              "5    11\n",
              "1    10\n",
              "3     6\n",
              "4     2\n",
              "Name: Variant_class, dtype: int64"
            ]
          },
          "metadata": {},
          "execution_count": 15
        }
      ]
    },
    {
      "cell_type": "code",
      "source": [
        "cols=['Nucleus', 'Exosome', 'Ribosome', 'Membrane', 'Endoplasmic Reticulum',\n",
        "       'Cytosol']"
      ],
      "metadata": {
        "id": "HQ_CK60muVDY"
      },
      "execution_count": null,
      "outputs": []
    },
    {
      "cell_type": "markdown",
      "source": [
        "# Model Preparation"
      ],
      "metadata": {
        "id": "im-EMJrqwlsY"
      }
    },
    {
      "cell_type": "code",
      "source": [
        "from sklearn.model_selection import train_test_split\n",
        "\n",
        "\n",
        "train_X, test_X, train_y, test_y = train_test_split( virus[cols],\n",
        "                                                  virus['Variant_class'],\n",
        "                                                  test_size = 0.2,\n",
        "                                                  random_state = 123 )"
      ],
      "metadata": {
        "id": "y2-lPYb4whgI"
      },
      "execution_count": null,
      "outputs": []
    },
    {
      "cell_type": "markdown",
      "source": [
        "# Model Building"
      ],
      "metadata": {
        "id": "it3e-CQ1w255"
      }
    },
    {
      "cell_type": "code",
      "source": [
        "param_grid = {'max_depth': np.arange(2, 8),\n",
        "             'max_features': np.arange(2,5)}"
      ],
      "metadata": {
        "id": "ovPak8Zlw6RQ"
      },
      "execution_count": null,
      "outputs": []
    },
    {
      "cell_type": "code",
      "source": [
        "from sklearn.model_selection import GridSearchCV\n",
        "from sklearn.tree import DecisionTreeClassifier, export_graphviz, export\n",
        "tree = GridSearchCV(DecisionTreeClassifier(), param_grid, cv = 10,verbose=1,n_jobs=-1)\n",
        "tree.fit( train_X, train_y )"
      ],
      "metadata": {
        "colab": {
          "base_uri": "https://localhost:8080/"
        },
        "id": "KOVW31J5xBti",
        "outputId": "b48b61d4-017e-44e9-9494-dbd280c1a7eb"
      },
      "execution_count": null,
      "outputs": [
        {
          "output_type": "stream",
          "name": "stdout",
          "text": [
            "Fitting 10 folds for each of 18 candidates, totalling 180 fits\n"
          ]
        },
        {
          "output_type": "stream",
          "name": "stderr",
          "text": [
            "/usr/local/lib/python3.7/dist-packages/sklearn/model_selection/_split.py:652: Warning: The least populated class in y has only 1 members, which is too few. The minimum number of members in any class cannot be less than n_splits=10.\n",
            "  % (min_groups, self.n_splits)), Warning)\n",
            "/usr/local/lib/python3.7/dist-packages/sklearn/model_selection/_split.py:665: DeprecationWarning: `np.int` is a deprecated alias for the builtin `int`. To silence this warning, use `int` by itself. Doing this will not modify any behavior and is safe. When replacing `np.int`, you may wish to use e.g. `np.int64` or `np.int32` to specify the precision. If you wish to review your current use, check the release note link for additional information.\n",
            "Deprecated in NumPy 1.20; for more details and guidance: https://numpy.org/devdocs/release/1.20.0-notes.html#deprecations\n",
            "  test_folds = np.zeros(n_samples, dtype=np.int)\n",
            "/usr/local/lib/python3.7/dist-packages/sklearn/model_selection/_split.py:437: DeprecationWarning: `np.int` is a deprecated alias for the builtin `int`. To silence this warning, use `int` by itself. Doing this will not modify any behavior and is safe. When replacing `np.int`, you may wish to use e.g. `np.int64` or `np.int32` to specify the precision. If you wish to review your current use, check the release note link for additional information.\n",
            "Deprecated in NumPy 1.20; for more details and guidance: https://numpy.org/devdocs/release/1.20.0-notes.html#deprecations\n",
            "  fold_sizes = np.full(n_splits, n_samples // n_splits, dtype=np.int)\n",
            "/usr/local/lib/python3.7/dist-packages/sklearn/model_selection/_split.py:113: DeprecationWarning: `np.bool` is a deprecated alias for the builtin `bool`. To silence this warning, use `bool` by itself. Doing this will not modify any behavior and is safe. If you specifically wanted the numpy scalar type, use `np.bool_` here.\n",
            "Deprecated in NumPy 1.20; for more details and guidance: https://numpy.org/devdocs/release/1.20.0-notes.html#deprecations\n",
            "  test_mask = np.zeros(_num_samples(X), dtype=np.bool)\n",
            "/usr/local/lib/python3.7/dist-packages/sklearn/model_selection/_split.py:437: DeprecationWarning: `np.int` is a deprecated alias for the builtin `int`. To silence this warning, use `int` by itself. Doing this will not modify any behavior and is safe. When replacing `np.int`, you may wish to use e.g. `np.int64` or `np.int32` to specify the precision. If you wish to review your current use, check the release note link for additional information.\n",
            "Deprecated in NumPy 1.20; for more details and guidance: https://numpy.org/devdocs/release/1.20.0-notes.html#deprecations\n",
            "  fold_sizes = np.full(n_splits, n_samples // n_splits, dtype=np.int)\n",
            "/usr/local/lib/python3.7/dist-packages/sklearn/model_selection/_split.py:113: DeprecationWarning: `np.bool` is a deprecated alias for the builtin `bool`. To silence this warning, use `bool` by itself. Doing this will not modify any behavior and is safe. If you specifically wanted the numpy scalar type, use `np.bool_` here.\n",
            "Deprecated in NumPy 1.20; for more details and guidance: https://numpy.org/devdocs/release/1.20.0-notes.html#deprecations\n",
            "  test_mask = np.zeros(_num_samples(X), dtype=np.bool)\n",
            "/usr/local/lib/python3.7/dist-packages/sklearn/model_selection/_split.py:437: DeprecationWarning: `np.int` is a deprecated alias for the builtin `int`. To silence this warning, use `int` by itself. Doing this will not modify any behavior and is safe. When replacing `np.int`, you may wish to use e.g. `np.int64` or `np.int32` to specify the precision. If you wish to review your current use, check the release note link for additional information.\n",
            "Deprecated in NumPy 1.20; for more details and guidance: https://numpy.org/devdocs/release/1.20.0-notes.html#deprecations\n",
            "  fold_sizes = np.full(n_splits, n_samples // n_splits, dtype=np.int)\n",
            "/usr/local/lib/python3.7/dist-packages/sklearn/model_selection/_split.py:113: DeprecationWarning: `np.bool` is a deprecated alias for the builtin `bool`. To silence this warning, use `bool` by itself. Doing this will not modify any behavior and is safe. If you specifically wanted the numpy scalar type, use `np.bool_` here.\n",
            "Deprecated in NumPy 1.20; for more details and guidance: https://numpy.org/devdocs/release/1.20.0-notes.html#deprecations\n",
            "  test_mask = np.zeros(_num_samples(X), dtype=np.bool)\n",
            "/usr/local/lib/python3.7/dist-packages/sklearn/model_selection/_split.py:437: DeprecationWarning: `np.int` is a deprecated alias for the builtin `int`. To silence this warning, use `int` by itself. Doing this will not modify any behavior and is safe. When replacing `np.int`, you may wish to use e.g. `np.int64` or `np.int32` to specify the precision. If you wish to review your current use, check the release note link for additional information.\n",
            "Deprecated in NumPy 1.20; for more details and guidance: https://numpy.org/devdocs/release/1.20.0-notes.html#deprecations\n",
            "  fold_sizes = np.full(n_splits, n_samples // n_splits, dtype=np.int)\n",
            "/usr/local/lib/python3.7/dist-packages/sklearn/model_selection/_split.py:113: DeprecationWarning: `np.bool` is a deprecated alias for the builtin `bool`. To silence this warning, use `bool` by itself. Doing this will not modify any behavior and is safe. If you specifically wanted the numpy scalar type, use `np.bool_` here.\n",
            "Deprecated in NumPy 1.20; for more details and guidance: https://numpy.org/devdocs/release/1.20.0-notes.html#deprecations\n",
            "  test_mask = np.zeros(_num_samples(X), dtype=np.bool)\n",
            "/usr/local/lib/python3.7/dist-packages/sklearn/model_selection/_split.py:437: DeprecationWarning: `np.int` is a deprecated alias for the builtin `int`. To silence this warning, use `int` by itself. Doing this will not modify any behavior and is safe. When replacing `np.int`, you may wish to use e.g. `np.int64` or `np.int32` to specify the precision. If you wish to review your current use, check the release note link for additional information.\n",
            "Deprecated in NumPy 1.20; for more details and guidance: https://numpy.org/devdocs/release/1.20.0-notes.html#deprecations\n",
            "  fold_sizes = np.full(n_splits, n_samples // n_splits, dtype=np.int)\n",
            "/usr/local/lib/python3.7/dist-packages/sklearn/model_selection/_split.py:113: DeprecationWarning: `np.bool` is a deprecated alias for the builtin `bool`. To silence this warning, use `bool` by itself. Doing this will not modify any behavior and is safe. If you specifically wanted the numpy scalar type, use `np.bool_` here.\n",
            "Deprecated in NumPy 1.20; for more details and guidance: https://numpy.org/devdocs/release/1.20.0-notes.html#deprecations\n",
            "  test_mask = np.zeros(_num_samples(X), dtype=np.bool)\n",
            "/usr/local/lib/python3.7/dist-packages/sklearn/model_selection/_split.py:113: DeprecationWarning: `np.bool` is a deprecated alias for the builtin `bool`. To silence this warning, use `bool` by itself. Doing this will not modify any behavior and is safe. If you specifically wanted the numpy scalar type, use `np.bool_` here.\n",
            "Deprecated in NumPy 1.20; for more details and guidance: https://numpy.org/devdocs/release/1.20.0-notes.html#deprecations\n",
            "  test_mask = np.zeros(_num_samples(X), dtype=np.bool)\n",
            "/usr/local/lib/python3.7/dist-packages/sklearn/model_selection/_split.py:113: DeprecationWarning: `np.bool` is a deprecated alias for the builtin `bool`. To silence this warning, use `bool` by itself. Doing this will not modify any behavior and is safe. If you specifically wanted the numpy scalar type, use `np.bool_` here.\n",
            "Deprecated in NumPy 1.20; for more details and guidance: https://numpy.org/devdocs/release/1.20.0-notes.html#deprecations\n",
            "  test_mask = np.zeros(_num_samples(X), dtype=np.bool)\n",
            "/usr/local/lib/python3.7/dist-packages/sklearn/model_selection/_split.py:113: DeprecationWarning: `np.bool` is a deprecated alias for the builtin `bool`. To silence this warning, use `bool` by itself. Doing this will not modify any behavior and is safe. If you specifically wanted the numpy scalar type, use `np.bool_` here.\n",
            "Deprecated in NumPy 1.20; for more details and guidance: https://numpy.org/devdocs/release/1.20.0-notes.html#deprecations\n",
            "  test_mask = np.zeros(_num_samples(X), dtype=np.bool)\n",
            "/usr/local/lib/python3.7/dist-packages/sklearn/model_selection/_split.py:113: DeprecationWarning: `np.bool` is a deprecated alias for the builtin `bool`. To silence this warning, use `bool` by itself. Doing this will not modify any behavior and is safe. If you specifically wanted the numpy scalar type, use `np.bool_` here.\n",
            "Deprecated in NumPy 1.20; for more details and guidance: https://numpy.org/devdocs/release/1.20.0-notes.html#deprecations\n",
            "  test_mask = np.zeros(_num_samples(X), dtype=np.bool)\n",
            "/usr/local/lib/python3.7/dist-packages/sklearn/model_selection/_split.py:113: DeprecationWarning: `np.bool` is a deprecated alias for the builtin `bool`. To silence this warning, use `bool` by itself. Doing this will not modify any behavior and is safe. If you specifically wanted the numpy scalar type, use `np.bool_` here.\n",
            "Deprecated in NumPy 1.20; for more details and guidance: https://numpy.org/devdocs/release/1.20.0-notes.html#deprecations\n",
            "  test_mask = np.zeros(_num_samples(X), dtype=np.bool)\n",
            "/usr/local/lib/python3.7/dist-packages/sklearn/model_selection/_split.py:113: DeprecationWarning: `np.bool` is a deprecated alias for the builtin `bool`. To silence this warning, use `bool` by itself. Doing this will not modify any behavior and is safe. If you specifically wanted the numpy scalar type, use `np.bool_` here.\n",
            "Deprecated in NumPy 1.20; for more details and guidance: https://numpy.org/devdocs/release/1.20.0-notes.html#deprecations\n",
            "  test_mask = np.zeros(_num_samples(X), dtype=np.bool)\n",
            "/usr/local/lib/python3.7/dist-packages/sklearn/model_selection/_split.py:113: DeprecationWarning: `np.bool` is a deprecated alias for the builtin `bool`. To silence this warning, use `bool` by itself. Doing this will not modify any behavior and is safe. If you specifically wanted the numpy scalar type, use `np.bool_` here.\n",
            "Deprecated in NumPy 1.20; for more details and guidance: https://numpy.org/devdocs/release/1.20.0-notes.html#deprecations\n",
            "  test_mask = np.zeros(_num_samples(X), dtype=np.bool)\n",
            "/usr/local/lib/python3.7/dist-packages/sklearn/model_selection/_split.py:113: DeprecationWarning: `np.bool` is a deprecated alias for the builtin `bool`. To silence this warning, use `bool` by itself. Doing this will not modify any behavior and is safe. If you specifically wanted the numpy scalar type, use `np.bool_` here.\n",
            "Deprecated in NumPy 1.20; for more details and guidance: https://numpy.org/devdocs/release/1.20.0-notes.html#deprecations\n",
            "  test_mask = np.zeros(_num_samples(X), dtype=np.bool)\n",
            "/usr/local/lib/python3.7/dist-packages/sklearn/model_selection/_split.py:113: DeprecationWarning: `np.bool` is a deprecated alias for the builtin `bool`. To silence this warning, use `bool` by itself. Doing this will not modify any behavior and is safe. If you specifically wanted the numpy scalar type, use `np.bool_` here.\n",
            "Deprecated in NumPy 1.20; for more details and guidance: https://numpy.org/devdocs/release/1.20.0-notes.html#deprecations\n",
            "  test_mask = np.zeros(_num_samples(X), dtype=np.bool)\n",
            "/usr/local/lib/python3.7/dist-packages/sklearn/model_selection/_split.py:113: DeprecationWarning: `np.bool` is a deprecated alias for the builtin `bool`. To silence this warning, use `bool` by itself. Doing this will not modify any behavior and is safe. If you specifically wanted the numpy scalar type, use `np.bool_` here.\n",
            "Deprecated in NumPy 1.20; for more details and guidance: https://numpy.org/devdocs/release/1.20.0-notes.html#deprecations\n",
            "  test_mask = np.zeros(_num_samples(X), dtype=np.bool)\n",
            "/usr/local/lib/python3.7/dist-packages/sklearn/model_selection/_split.py:113: DeprecationWarning: `np.bool` is a deprecated alias for the builtin `bool`. To silence this warning, use `bool` by itself. Doing this will not modify any behavior and is safe. If you specifically wanted the numpy scalar type, use `np.bool_` here.\n",
            "Deprecated in NumPy 1.20; for more details and guidance: https://numpy.org/devdocs/release/1.20.0-notes.html#deprecations\n",
            "  test_mask = np.zeros(_num_samples(X), dtype=np.bool)\n",
            "/usr/local/lib/python3.7/dist-packages/sklearn/model_selection/_split.py:113: DeprecationWarning: `np.bool` is a deprecated alias for the builtin `bool`. To silence this warning, use `bool` by itself. Doing this will not modify any behavior and is safe. If you specifically wanted the numpy scalar type, use `np.bool_` here.\n",
            "Deprecated in NumPy 1.20; for more details and guidance: https://numpy.org/devdocs/release/1.20.0-notes.html#deprecations\n",
            "  test_mask = np.zeros(_num_samples(X), dtype=np.bool)\n",
            "/usr/local/lib/python3.7/dist-packages/sklearn/model_selection/_split.py:113: DeprecationWarning: `np.bool` is a deprecated alias for the builtin `bool`. To silence this warning, use `bool` by itself. Doing this will not modify any behavior and is safe. If you specifically wanted the numpy scalar type, use `np.bool_` here.\n",
            "Deprecated in NumPy 1.20; for more details and guidance: https://numpy.org/devdocs/release/1.20.0-notes.html#deprecations\n",
            "  test_mask = np.zeros(_num_samples(X), dtype=np.bool)\n",
            "/usr/local/lib/python3.7/dist-packages/sklearn/model_selection/_split.py:113: DeprecationWarning: `np.bool` is a deprecated alias for the builtin `bool`. To silence this warning, use `bool` by itself. Doing this will not modify any behavior and is safe. If you specifically wanted the numpy scalar type, use `np.bool_` here.\n",
            "Deprecated in NumPy 1.20; for more details and guidance: https://numpy.org/devdocs/release/1.20.0-notes.html#deprecations\n",
            "  test_mask = np.zeros(_num_samples(X), dtype=np.bool)\n",
            "/usr/local/lib/python3.7/dist-packages/sklearn/model_selection/_split.py:113: DeprecationWarning: `np.bool` is a deprecated alias for the builtin `bool`. To silence this warning, use `bool` by itself. Doing this will not modify any behavior and is safe. If you specifically wanted the numpy scalar type, use `np.bool_` here.\n",
            "Deprecated in NumPy 1.20; for more details and guidance: https://numpy.org/devdocs/release/1.20.0-notes.html#deprecations\n",
            "  test_mask = np.zeros(_num_samples(X), dtype=np.bool)\n",
            "/usr/local/lib/python3.7/dist-packages/sklearn/model_selection/_split.py:113: DeprecationWarning: `np.bool` is a deprecated alias for the builtin `bool`. To silence this warning, use `bool` by itself. Doing this will not modify any behavior and is safe. If you specifically wanted the numpy scalar type, use `np.bool_` here.\n",
            "Deprecated in NumPy 1.20; for more details and guidance: https://numpy.org/devdocs/release/1.20.0-notes.html#deprecations\n",
            "  test_mask = np.zeros(_num_samples(X), dtype=np.bool)\n",
            "/usr/local/lib/python3.7/dist-packages/sklearn/model_selection/_split.py:113: DeprecationWarning: `np.bool` is a deprecated alias for the builtin `bool`. To silence this warning, use `bool` by itself. Doing this will not modify any behavior and is safe. If you specifically wanted the numpy scalar type, use `np.bool_` here.\n",
            "Deprecated in NumPy 1.20; for more details and guidance: https://numpy.org/devdocs/release/1.20.0-notes.html#deprecations\n",
            "  test_mask = np.zeros(_num_samples(X), dtype=np.bool)\n",
            "/usr/local/lib/python3.7/dist-packages/sklearn/model_selection/_split.py:113: DeprecationWarning: `np.bool` is a deprecated alias for the builtin `bool`. To silence this warning, use `bool` by itself. Doing this will not modify any behavior and is safe. If you specifically wanted the numpy scalar type, use `np.bool_` here.\n",
            "Deprecated in NumPy 1.20; for more details and guidance: https://numpy.org/devdocs/release/1.20.0-notes.html#deprecations\n",
            "  test_mask = np.zeros(_num_samples(X), dtype=np.bool)\n",
            "/usr/local/lib/python3.7/dist-packages/sklearn/model_selection/_split.py:113: DeprecationWarning: `np.bool` is a deprecated alias for the builtin `bool`. To silence this warning, use `bool` by itself. Doing this will not modify any behavior and is safe. If you specifically wanted the numpy scalar type, use `np.bool_` here.\n",
            "Deprecated in NumPy 1.20; for more details and guidance: https://numpy.org/devdocs/release/1.20.0-notes.html#deprecations\n",
            "  test_mask = np.zeros(_num_samples(X), dtype=np.bool)\n",
            "/usr/local/lib/python3.7/dist-packages/sklearn/model_selection/_split.py:113: DeprecationWarning: `np.bool` is a deprecated alias for the builtin `bool`. To silence this warning, use `bool` by itself. Doing this will not modify any behavior and is safe. If you specifically wanted the numpy scalar type, use `np.bool_` here.\n",
            "Deprecated in NumPy 1.20; for more details and guidance: https://numpy.org/devdocs/release/1.20.0-notes.html#deprecations\n",
            "  test_mask = np.zeros(_num_samples(X), dtype=np.bool)\n",
            "/usr/local/lib/python3.7/dist-packages/sklearn/model_selection/_split.py:113: DeprecationWarning: `np.bool` is a deprecated alias for the builtin `bool`. To silence this warning, use `bool` by itself. Doing this will not modify any behavior and is safe. If you specifically wanted the numpy scalar type, use `np.bool_` here.\n",
            "Deprecated in NumPy 1.20; for more details and guidance: https://numpy.org/devdocs/release/1.20.0-notes.html#deprecations\n",
            "  test_mask = np.zeros(_num_samples(X), dtype=np.bool)\n",
            "/usr/local/lib/python3.7/dist-packages/sklearn/model_selection/_split.py:113: DeprecationWarning: `np.bool` is a deprecated alias for the builtin `bool`. To silence this warning, use `bool` by itself. Doing this will not modify any behavior and is safe. If you specifically wanted the numpy scalar type, use `np.bool_` here.\n",
            "Deprecated in NumPy 1.20; for more details and guidance: https://numpy.org/devdocs/release/1.20.0-notes.html#deprecations\n",
            "  test_mask = np.zeros(_num_samples(X), dtype=np.bool)\n",
            "/usr/local/lib/python3.7/dist-packages/sklearn/model_selection/_split.py:113: DeprecationWarning: `np.bool` is a deprecated alias for the builtin `bool`. To silence this warning, use `bool` by itself. Doing this will not modify any behavior and is safe. If you specifically wanted the numpy scalar type, use `np.bool_` here.\n",
            "Deprecated in NumPy 1.20; for more details and guidance: https://numpy.org/devdocs/release/1.20.0-notes.html#deprecations\n",
            "  test_mask = np.zeros(_num_samples(X), dtype=np.bool)\n",
            "/usr/local/lib/python3.7/dist-packages/sklearn/model_selection/_split.py:113: DeprecationWarning: `np.bool` is a deprecated alias for the builtin `bool`. To silence this warning, use `bool` by itself. Doing this will not modify any behavior and is safe. If you specifically wanted the numpy scalar type, use `np.bool_` here.\n",
            "Deprecated in NumPy 1.20; for more details and guidance: https://numpy.org/devdocs/release/1.20.0-notes.html#deprecations\n",
            "  test_mask = np.zeros(_num_samples(X), dtype=np.bool)\n",
            "/usr/local/lib/python3.7/dist-packages/sklearn/model_selection/_split.py:113: DeprecationWarning: `np.bool` is a deprecated alias for the builtin `bool`. To silence this warning, use `bool` by itself. Doing this will not modify any behavior and is safe. If you specifically wanted the numpy scalar type, use `np.bool_` here.\n",
            "Deprecated in NumPy 1.20; for more details and guidance: https://numpy.org/devdocs/release/1.20.0-notes.html#deprecations\n",
            "  test_mask = np.zeros(_num_samples(X), dtype=np.bool)\n",
            "/usr/local/lib/python3.7/dist-packages/sklearn/model_selection/_split.py:113: DeprecationWarning: `np.bool` is a deprecated alias for the builtin `bool`. To silence this warning, use `bool` by itself. Doing this will not modify any behavior and is safe. If you specifically wanted the numpy scalar type, use `np.bool_` here.\n",
            "Deprecated in NumPy 1.20; for more details and guidance: https://numpy.org/devdocs/release/1.20.0-notes.html#deprecations\n",
            "  test_mask = np.zeros(_num_samples(X), dtype=np.bool)\n",
            "/usr/local/lib/python3.7/dist-packages/sklearn/model_selection/_split.py:113: DeprecationWarning: `np.bool` is a deprecated alias for the builtin `bool`. To silence this warning, use `bool` by itself. Doing this will not modify any behavior and is safe. If you specifically wanted the numpy scalar type, use `np.bool_` here.\n",
            "Deprecated in NumPy 1.20; for more details and guidance: https://numpy.org/devdocs/release/1.20.0-notes.html#deprecations\n",
            "  test_mask = np.zeros(_num_samples(X), dtype=np.bool)\n",
            "/usr/local/lib/python3.7/dist-packages/sklearn/model_selection/_split.py:113: DeprecationWarning: `np.bool` is a deprecated alias for the builtin `bool`. To silence this warning, use `bool` by itself. Doing this will not modify any behavior and is safe. If you specifically wanted the numpy scalar type, use `np.bool_` here.\n",
            "Deprecated in NumPy 1.20; for more details and guidance: https://numpy.org/devdocs/release/1.20.0-notes.html#deprecations\n",
            "  test_mask = np.zeros(_num_samples(X), dtype=np.bool)\n",
            "/usr/local/lib/python3.7/dist-packages/sklearn/model_selection/_split.py:113: DeprecationWarning: `np.bool` is a deprecated alias for the builtin `bool`. To silence this warning, use `bool` by itself. Doing this will not modify any behavior and is safe. If you specifically wanted the numpy scalar type, use `np.bool_` here.\n",
            "Deprecated in NumPy 1.20; for more details and guidance: https://numpy.org/devdocs/release/1.20.0-notes.html#deprecations\n",
            "  test_mask = np.zeros(_num_samples(X), dtype=np.bool)\n",
            "/usr/local/lib/python3.7/dist-packages/sklearn/model_selection/_split.py:113: DeprecationWarning: `np.bool` is a deprecated alias for the builtin `bool`. To silence this warning, use `bool` by itself. Doing this will not modify any behavior and is safe. If you specifically wanted the numpy scalar type, use `np.bool_` here.\n",
            "Deprecated in NumPy 1.20; for more details and guidance: https://numpy.org/devdocs/release/1.20.0-notes.html#deprecations\n",
            "  test_mask = np.zeros(_num_samples(X), dtype=np.bool)\n",
            "/usr/local/lib/python3.7/dist-packages/sklearn/model_selection/_split.py:113: DeprecationWarning: `np.bool` is a deprecated alias for the builtin `bool`. To silence this warning, use `bool` by itself. Doing this will not modify any behavior and is safe. If you specifically wanted the numpy scalar type, use `np.bool_` here.\n",
            "Deprecated in NumPy 1.20; for more details and guidance: https://numpy.org/devdocs/release/1.20.0-notes.html#deprecations\n",
            "  test_mask = np.zeros(_num_samples(X), dtype=np.bool)\n",
            "/usr/local/lib/python3.7/dist-packages/sklearn/model_selection/_split.py:113: DeprecationWarning: `np.bool` is a deprecated alias for the builtin `bool`. To silence this warning, use `bool` by itself. Doing this will not modify any behavior and is safe. If you specifically wanted the numpy scalar type, use `np.bool_` here.\n",
            "Deprecated in NumPy 1.20; for more details and guidance: https://numpy.org/devdocs/release/1.20.0-notes.html#deprecations\n",
            "  test_mask = np.zeros(_num_samples(X), dtype=np.bool)\n",
            "/usr/local/lib/python3.7/dist-packages/sklearn/model_selection/_split.py:113: DeprecationWarning: `np.bool` is a deprecated alias for the builtin `bool`. To silence this warning, use `bool` by itself. Doing this will not modify any behavior and is safe. If you specifically wanted the numpy scalar type, use `np.bool_` here.\n",
            "Deprecated in NumPy 1.20; for more details and guidance: https://numpy.org/devdocs/release/1.20.0-notes.html#deprecations\n",
            "  test_mask = np.zeros(_num_samples(X), dtype=np.bool)\n",
            "/usr/local/lib/python3.7/dist-packages/sklearn/model_selection/_split.py:113: DeprecationWarning: `np.bool` is a deprecated alias for the builtin `bool`. To silence this warning, use `bool` by itself. Doing this will not modify any behavior and is safe. If you specifically wanted the numpy scalar type, use `np.bool_` here.\n",
            "Deprecated in NumPy 1.20; for more details and guidance: https://numpy.org/devdocs/release/1.20.0-notes.html#deprecations\n",
            "  test_mask = np.zeros(_num_samples(X), dtype=np.bool)\n",
            "/usr/local/lib/python3.7/dist-packages/sklearn/model_selection/_split.py:113: DeprecationWarning: `np.bool` is a deprecated alias for the builtin `bool`. To silence this warning, use `bool` by itself. Doing this will not modify any behavior and is safe. If you specifically wanted the numpy scalar type, use `np.bool_` here.\n",
            "Deprecated in NumPy 1.20; for more details and guidance: https://numpy.org/devdocs/release/1.20.0-notes.html#deprecations\n",
            "  test_mask = np.zeros(_num_samples(X), dtype=np.bool)\n",
            "/usr/local/lib/python3.7/dist-packages/sklearn/model_selection/_split.py:113: DeprecationWarning: `np.bool` is a deprecated alias for the builtin `bool`. To silence this warning, use `bool` by itself. Doing this will not modify any behavior and is safe. If you specifically wanted the numpy scalar type, use `np.bool_` here.\n",
            "Deprecated in NumPy 1.20; for more details and guidance: https://numpy.org/devdocs/release/1.20.0-notes.html#deprecations\n",
            "  test_mask = np.zeros(_num_samples(X), dtype=np.bool)\n",
            "/usr/local/lib/python3.7/dist-packages/sklearn/model_selection/_split.py:113: DeprecationWarning: `np.bool` is a deprecated alias for the builtin `bool`. To silence this warning, use `bool` by itself. Doing this will not modify any behavior and is safe. If you specifically wanted the numpy scalar type, use `np.bool_` here.\n",
            "Deprecated in NumPy 1.20; for more details and guidance: https://numpy.org/devdocs/release/1.20.0-notes.html#deprecations\n",
            "  test_mask = np.zeros(_num_samples(X), dtype=np.bool)\n",
            "/usr/local/lib/python3.7/dist-packages/sklearn/model_selection/_split.py:113: DeprecationWarning: `np.bool` is a deprecated alias for the builtin `bool`. To silence this warning, use `bool` by itself. Doing this will not modify any behavior and is safe. If you specifically wanted the numpy scalar type, use `np.bool_` here.\n",
            "Deprecated in NumPy 1.20; for more details and guidance: https://numpy.org/devdocs/release/1.20.0-notes.html#deprecations\n",
            "  test_mask = np.zeros(_num_samples(X), dtype=np.bool)\n",
            "/usr/local/lib/python3.7/dist-packages/sklearn/model_selection/_split.py:113: DeprecationWarning: `np.bool` is a deprecated alias for the builtin `bool`. To silence this warning, use `bool` by itself. Doing this will not modify any behavior and is safe. If you specifically wanted the numpy scalar type, use `np.bool_` here.\n",
            "Deprecated in NumPy 1.20; for more details and guidance: https://numpy.org/devdocs/release/1.20.0-notes.html#deprecations\n",
            "  test_mask = np.zeros(_num_samples(X), dtype=np.bool)\n",
            "/usr/local/lib/python3.7/dist-packages/sklearn/model_selection/_split.py:113: DeprecationWarning: `np.bool` is a deprecated alias for the builtin `bool`. To silence this warning, use `bool` by itself. Doing this will not modify any behavior and is safe. If you specifically wanted the numpy scalar type, use `np.bool_` here.\n",
            "Deprecated in NumPy 1.20; for more details and guidance: https://numpy.org/devdocs/release/1.20.0-notes.html#deprecations\n",
            "  test_mask = np.zeros(_num_samples(X), dtype=np.bool)\n",
            "/usr/local/lib/python3.7/dist-packages/sklearn/model_selection/_split.py:113: DeprecationWarning: `np.bool` is a deprecated alias for the builtin `bool`. To silence this warning, use `bool` by itself. Doing this will not modify any behavior and is safe. If you specifically wanted the numpy scalar type, use `np.bool_` here.\n",
            "Deprecated in NumPy 1.20; for more details and guidance: https://numpy.org/devdocs/release/1.20.0-notes.html#deprecations\n",
            "  test_mask = np.zeros(_num_samples(X), dtype=np.bool)\n",
            "/usr/local/lib/python3.7/dist-packages/sklearn/model_selection/_split.py:113: DeprecationWarning: `np.bool` is a deprecated alias for the builtin `bool`. To silence this warning, use `bool` by itself. Doing this will not modify any behavior and is safe. If you specifically wanted the numpy scalar type, use `np.bool_` here.\n",
            "Deprecated in NumPy 1.20; for more details and guidance: https://numpy.org/devdocs/release/1.20.0-notes.html#deprecations\n",
            "  test_mask = np.zeros(_num_samples(X), dtype=np.bool)\n",
            "/usr/local/lib/python3.7/dist-packages/sklearn/model_selection/_split.py:113: DeprecationWarning: `np.bool` is a deprecated alias for the builtin `bool`. To silence this warning, use `bool` by itself. Doing this will not modify any behavior and is safe. If you specifically wanted the numpy scalar type, use `np.bool_` here.\n",
            "Deprecated in NumPy 1.20; for more details and guidance: https://numpy.org/devdocs/release/1.20.0-notes.html#deprecations\n",
            "  test_mask = np.zeros(_num_samples(X), dtype=np.bool)\n",
            "/usr/local/lib/python3.7/dist-packages/sklearn/model_selection/_split.py:113: DeprecationWarning: `np.bool` is a deprecated alias for the builtin `bool`. To silence this warning, use `bool` by itself. Doing this will not modify any behavior and is safe. If you specifically wanted the numpy scalar type, use `np.bool_` here.\n",
            "Deprecated in NumPy 1.20; for more details and guidance: https://numpy.org/devdocs/release/1.20.0-notes.html#deprecations\n",
            "  test_mask = np.zeros(_num_samples(X), dtype=np.bool)\n",
            "/usr/local/lib/python3.7/dist-packages/sklearn/model_selection/_split.py:113: DeprecationWarning: `np.bool` is a deprecated alias for the builtin `bool`. To silence this warning, use `bool` by itself. Doing this will not modify any behavior and is safe. If you specifically wanted the numpy scalar type, use `np.bool_` here.\n",
            "Deprecated in NumPy 1.20; for more details and guidance: https://numpy.org/devdocs/release/1.20.0-notes.html#deprecations\n",
            "  test_mask = np.zeros(_num_samples(X), dtype=np.bool)\n",
            "[Parallel(n_jobs=-1)]: Using backend LokyBackend with 2 concurrent workers.\n",
            "[Parallel(n_jobs=-1)]: Done 180 out of 180 | elapsed:    2.9s finished\n",
            "/usr/local/lib/python3.7/dist-packages/sklearn/model_selection/_search.py:821: DeprecationWarning: `np.int` is a deprecated alias for the builtin `int`. To silence this warning, use `int` by itself. Doing this will not modify any behavior and is safe. When replacing `np.int`, you may wish to use e.g. `np.int64` or `np.int32` to specify the precision. If you wish to review your current use, check the release note link for additional information.\n",
            "Deprecated in NumPy 1.20; for more details and guidance: https://numpy.org/devdocs/release/1.20.0-notes.html#deprecations\n",
            "  dtype=np.int)\n",
            "/usr/local/lib/python3.7/dist-packages/sklearn/model_selection/_search.py:841: DeprecationWarning: The default of the `iid` parameter will change from True to False in version 0.22 and will be removed in 0.24. This will change numeric results when test-set sizes are unequal.\n",
            "  DeprecationWarning)\n",
            "/usr/local/lib/python3.7/dist-packages/sklearn/tree/tree.py:149: DeprecationWarning: `np.int` is a deprecated alias for the builtin `int`. To silence this warning, use `int` by itself. Doing this will not modify any behavior and is safe. When replacing `np.int`, you may wish to use e.g. `np.int64` or `np.int32` to specify the precision. If you wish to review your current use, check the release note link for additional information.\n",
            "Deprecated in NumPy 1.20; for more details and guidance: https://numpy.org/devdocs/release/1.20.0-notes.html#deprecations\n",
            "  y_encoded = np.zeros(y.shape, dtype=np.int)\n"
          ]
        },
        {
          "output_type": "execute_result",
          "data": {
            "text/plain": [
              "GridSearchCV(cv=10, error_score='raise-deprecating',\n",
              "       estimator=DecisionTreeClassifier(class_weight=None, criterion='gini', max_depth=None,\n",
              "            max_features=None, max_leaf_nodes=None,\n",
              "            min_impurity_decrease=0.0, min_impurity_split=None,\n",
              "            min_samples_leaf=1, min_samples_split=2,\n",
              "            min_weight_fraction_leaf=0.0, presort=False, random_state=None,\n",
              "            splitter='best'),\n",
              "       fit_params=None, iid='warn', n_jobs=-1,\n",
              "       param_grid={'max_depth': array([2, 3, 4, 5, 6, 7]), 'max_features': array([2, 3, 4])},\n",
              "       pre_dispatch='2*n_jobs', refit=True, return_train_score='warn',\n",
              "       scoring=None, verbose=1)"
            ]
          },
          "metadata": {},
          "execution_count": 18
        }
      ]
    },
    {
      "cell_type": "code",
      "source": [
        "tree.best_score_"
      ],
      "metadata": {
        "colab": {
          "base_uri": "https://localhost:8080/"
        },
        "id": "kt__qesAxGER",
        "outputId": "f70085c7-3598-4407-9db8-c73e47c61faf"
      },
      "execution_count": null,
      "outputs": [
        {
          "output_type": "execute_result",
          "data": {
            "text/plain": [
              "0.8648648648648649"
            ]
          },
          "metadata": {},
          "execution_count": 19
        }
      ]
    },
    {
      "cell_type": "code",
      "source": [
        "tree.best_estimator_"
      ],
      "metadata": {
        "colab": {
          "base_uri": "https://localhost:8080/"
        },
        "id": "LC4hYDHhxIZJ",
        "outputId": "7e0a6638-bc21-4d1c-ecde-5557e7e4acc9"
      },
      "execution_count": null,
      "outputs": [
        {
          "output_type": "execute_result",
          "data": {
            "text/plain": [
              "DecisionTreeClassifier(class_weight=None, criterion='gini', max_depth=4,\n",
              "            max_features=4, max_leaf_nodes=None, min_impurity_decrease=0.0,\n",
              "            min_impurity_split=None, min_samples_leaf=1,\n",
              "            min_samples_split=2, min_weight_fraction_leaf=0.0,\n",
              "            presort=False, random_state=None, splitter='best')"
            ]
          },
          "metadata": {},
          "execution_count": 20
        }
      ]
    },
    {
      "cell_type": "code",
      "source": [
        "tree.best_params_"
      ],
      "metadata": {
        "colab": {
          "base_uri": "https://localhost:8080/"
        },
        "id": "-YMbPyB7xKcR",
        "outputId": "ea5fe6a2-168c-4cba-aaa0-20c134db22bb"
      },
      "execution_count": null,
      "outputs": [
        {
          "output_type": "execute_result",
          "data": {
            "text/plain": [
              "{'max_depth': 4, 'max_features': 4}"
            ]
          },
          "metadata": {},
          "execution_count": 21
        }
      ]
    },
    {
      "cell_type": "code",
      "source": [
        "train_pred = tree.predict(train_X)"
      ],
      "metadata": {
        "id": "JUtMqzZmxM_B"
      },
      "execution_count": null,
      "outputs": []
    },
    {
      "cell_type": "code",
      "source": [
        "test_pred = tree.predict(test_X)"
      ],
      "metadata": {
        "id": "lsE1nNFexPlx"
      },
      "execution_count": null,
      "outputs": []
    },
    {
      "cell_type": "code",
      "source": [
        "import sklearn.metrics as metrics\n",
        "print(metrics.classification_report(test_y, test_pred))"
      ],
      "metadata": {
        "colab": {
          "base_uri": "https://localhost:8080/"
        },
        "id": "UsEblmNuxSHR",
        "outputId": "1cbf14f8-9e3b-4e70-bb57-dc4a5a20930e"
      },
      "execution_count": null,
      "outputs": [
        {
          "output_type": "stream",
          "name": "stdout",
          "text": [
            "              precision    recall  f1-score   support\n",
            "\n",
            "           1       0.67      1.00      0.80         2\n",
            "           2       1.00      0.83      0.91         6\n",
            "           3       1.00      1.00      1.00         1\n",
            "           4       0.00      0.00      0.00         1\n",
            "           5       0.00      0.00      0.00         0\n",
            "\n",
            "   micro avg       0.80      0.80      0.80        10\n",
            "   macro avg       0.53      0.57      0.54        10\n",
            "weighted avg       0.83      0.80      0.81        10\n",
            "\n"
          ]
        },
        {
          "output_type": "stream",
          "name": "stderr",
          "text": [
            "/usr/local/lib/python3.7/dist-packages/sklearn/metrics/classification.py:1143: UndefinedMetricWarning: Precision and F-score are ill-defined and being set to 0.0 in labels with no predicted samples.\n",
            "  'precision', 'predicted', average, warn_for)\n",
            "/usr/local/lib/python3.7/dist-packages/sklearn/metrics/classification.py:1145: UndefinedMetricWarning: Recall and F-score are ill-defined and being set to 0.0 in labels with no true samples.\n",
            "  'recall', 'true', average, warn_for)\n"
          ]
        }
      ]
    },
    {
      "cell_type": "markdown",
      "source": [
        "# Building Final Decision Tree"
      ],
      "metadata": {
        "id": "FR2UedEpxXyx"
      }
    },
    {
      "cell_type": "code",
      "source": [
        "clf_tree = DecisionTreeClassifier( max_depth = 4, max_features=2)\n",
        "clf_tree.fit( train_X, train_y )"
      ],
      "metadata": {
        "colab": {
          "base_uri": "https://localhost:8080/"
        },
        "id": "1DWOaNOkxWCx",
        "outputId": "e3b3f7b7-78ae-4801-837a-62b76ef575ec"
      },
      "execution_count": null,
      "outputs": [
        {
          "output_type": "stream",
          "name": "stderr",
          "text": [
            "/usr/local/lib/python3.7/dist-packages/sklearn/tree/tree.py:149: DeprecationWarning: `np.int` is a deprecated alias for the builtin `int`. To silence this warning, use `int` by itself. Doing this will not modify any behavior and is safe. When replacing `np.int`, you may wish to use e.g. `np.int64` or `np.int32` to specify the precision. If you wish to review your current use, check the release note link for additional information.\n",
            "Deprecated in NumPy 1.20; for more details and guidance: https://numpy.org/devdocs/release/1.20.0-notes.html#deprecations\n",
            "  y_encoded = np.zeros(y.shape, dtype=np.int)\n"
          ]
        },
        {
          "output_type": "execute_result",
          "data": {
            "text/plain": [
              "DecisionTreeClassifier(class_weight=None, criterion='gini', max_depth=4,\n",
              "            max_features=2, max_leaf_nodes=None, min_impurity_decrease=0.0,\n",
              "            min_impurity_split=None, min_samples_leaf=1,\n",
              "            min_samples_split=2, min_weight_fraction_leaf=0.0,\n",
              "            presort=False, random_state=None, splitter='best')"
            ]
          },
          "metadata": {},
          "execution_count": 25
        }
      ]
    },
    {
      "cell_type": "code",
      "source": [
        "tree_test_pred = pd.DataFrame( { 'actual':  test_y,\n",
        "                            'predicted': clf_tree.predict( test_X ) } )"
      ],
      "metadata": {
        "id": "UY4OFsosxhuC"
      },
      "execution_count": null,
      "outputs": []
    },
    {
      "cell_type": "code",
      "source": [
        "tree_test_pred.sample( n = 10 )"
      ],
      "metadata": {
        "colab": {
          "base_uri": "https://localhost:8080/",
          "height": 362
        },
        "id": "GpchgaBPxi7Q",
        "outputId": "e7211b85-f288-4a24-b0e0-beb109862f0a"
      },
      "execution_count": null,
      "outputs": [
        {
          "output_type": "execute_result",
          "data": {
            "text/plain": [
              "    actual  predicted\n",
              "11       2          1\n",
              "43       2          2\n",
              "10       2          2\n",
              "31       4          3\n",
              "18       3          3\n",
              "42       2          2\n",
              "1        1          1\n",
              "8        2          2\n",
              "44       2          2\n",
              "5        1          1"
            ],
            "text/html": [
              "\n",
              "  <div id=\"df-5ae6c8fa-d6e5-4b47-aec6-51976a1020f9\">\n",
              "    <div class=\"colab-df-container\">\n",
              "      <div>\n",
              "<style scoped>\n",
              "    .dataframe tbody tr th:only-of-type {\n",
              "        vertical-align: middle;\n",
              "    }\n",
              "\n",
              "    .dataframe tbody tr th {\n",
              "        vertical-align: top;\n",
              "    }\n",
              "\n",
              "    .dataframe thead th {\n",
              "        text-align: right;\n",
              "    }\n",
              "</style>\n",
              "<table border=\"1\" class=\"dataframe\">\n",
              "  <thead>\n",
              "    <tr style=\"text-align: right;\">\n",
              "      <th></th>\n",
              "      <th>actual</th>\n",
              "      <th>predicted</th>\n",
              "    </tr>\n",
              "  </thead>\n",
              "  <tbody>\n",
              "    <tr>\n",
              "      <th>11</th>\n",
              "      <td>2</td>\n",
              "      <td>1</td>\n",
              "    </tr>\n",
              "    <tr>\n",
              "      <th>43</th>\n",
              "      <td>2</td>\n",
              "      <td>2</td>\n",
              "    </tr>\n",
              "    <tr>\n",
              "      <th>10</th>\n",
              "      <td>2</td>\n",
              "      <td>2</td>\n",
              "    </tr>\n",
              "    <tr>\n",
              "      <th>31</th>\n",
              "      <td>4</td>\n",
              "      <td>3</td>\n",
              "    </tr>\n",
              "    <tr>\n",
              "      <th>18</th>\n",
              "      <td>3</td>\n",
              "      <td>3</td>\n",
              "    </tr>\n",
              "    <tr>\n",
              "      <th>42</th>\n",
              "      <td>2</td>\n",
              "      <td>2</td>\n",
              "    </tr>\n",
              "    <tr>\n",
              "      <th>1</th>\n",
              "      <td>1</td>\n",
              "      <td>1</td>\n",
              "    </tr>\n",
              "    <tr>\n",
              "      <th>8</th>\n",
              "      <td>2</td>\n",
              "      <td>2</td>\n",
              "    </tr>\n",
              "    <tr>\n",
              "      <th>44</th>\n",
              "      <td>2</td>\n",
              "      <td>2</td>\n",
              "    </tr>\n",
              "    <tr>\n",
              "      <th>5</th>\n",
              "      <td>1</td>\n",
              "      <td>1</td>\n",
              "    </tr>\n",
              "  </tbody>\n",
              "</table>\n",
              "</div>\n",
              "      <button class=\"colab-df-convert\" onclick=\"convertToInteractive('df-5ae6c8fa-d6e5-4b47-aec6-51976a1020f9')\"\n",
              "              title=\"Convert this dataframe to an interactive table.\"\n",
              "              style=\"display:none;\">\n",
              "        \n",
              "  <svg xmlns=\"http://www.w3.org/2000/svg\" height=\"24px\"viewBox=\"0 0 24 24\"\n",
              "       width=\"24px\">\n",
              "    <path d=\"M0 0h24v24H0V0z\" fill=\"none\"/>\n",
              "    <path d=\"M18.56 5.44l.94 2.06.94-2.06 2.06-.94-2.06-.94-.94-2.06-.94 2.06-2.06.94zm-11 1L8.5 8.5l.94-2.06 2.06-.94-2.06-.94L8.5 2.5l-.94 2.06-2.06.94zm10 10l.94 2.06.94-2.06 2.06-.94-2.06-.94-.94-2.06-.94 2.06-2.06.94z\"/><path d=\"M17.41 7.96l-1.37-1.37c-.4-.4-.92-.59-1.43-.59-.52 0-1.04.2-1.43.59L10.3 9.45l-7.72 7.72c-.78.78-.78 2.05 0 2.83L4 21.41c.39.39.9.59 1.41.59.51 0 1.02-.2 1.41-.59l7.78-7.78 2.81-2.81c.8-.78.8-2.07 0-2.86zM5.41 20L4 18.59l7.72-7.72 1.47 1.35L5.41 20z\"/>\n",
              "  </svg>\n",
              "      </button>\n",
              "      \n",
              "  <style>\n",
              "    .colab-df-container {\n",
              "      display:flex;\n",
              "      flex-wrap:wrap;\n",
              "      gap: 12px;\n",
              "    }\n",
              "\n",
              "    .colab-df-convert {\n",
              "      background-color: #E8F0FE;\n",
              "      border: none;\n",
              "      border-radius: 50%;\n",
              "      cursor: pointer;\n",
              "      display: none;\n",
              "      fill: #1967D2;\n",
              "      height: 32px;\n",
              "      padding: 0 0 0 0;\n",
              "      width: 32px;\n",
              "    }\n",
              "\n",
              "    .colab-df-convert:hover {\n",
              "      background-color: #E2EBFA;\n",
              "      box-shadow: 0px 1px 2px rgba(60, 64, 67, 0.3), 0px 1px 3px 1px rgba(60, 64, 67, 0.15);\n",
              "      fill: #174EA6;\n",
              "    }\n",
              "\n",
              "    [theme=dark] .colab-df-convert {\n",
              "      background-color: #3B4455;\n",
              "      fill: #D2E3FC;\n",
              "    }\n",
              "\n",
              "    [theme=dark] .colab-df-convert:hover {\n",
              "      background-color: #434B5C;\n",
              "      box-shadow: 0px 1px 3px 1px rgba(0, 0, 0, 0.15);\n",
              "      filter: drop-shadow(0px 1px 2px rgba(0, 0, 0, 0.3));\n",
              "      fill: #FFFFFF;\n",
              "    }\n",
              "  </style>\n",
              "\n",
              "      <script>\n",
              "        const buttonEl =\n",
              "          document.querySelector('#df-5ae6c8fa-d6e5-4b47-aec6-51976a1020f9 button.colab-df-convert');\n",
              "        buttonEl.style.display =\n",
              "          google.colab.kernel.accessAllowed ? 'block' : 'none';\n",
              "\n",
              "        async function convertToInteractive(key) {\n",
              "          const element = document.querySelector('#df-5ae6c8fa-d6e5-4b47-aec6-51976a1020f9');\n",
              "          const dataTable =\n",
              "            await google.colab.kernel.invokeFunction('convertToInteractive',\n",
              "                                                     [key], {});\n",
              "          if (!dataTable) return;\n",
              "\n",
              "          const docLinkHtml = 'Like what you see? Visit the ' +\n",
              "            '<a target=\"_blank\" href=https://colab.research.google.com/notebooks/data_table.ipynb>data table notebook</a>'\n",
              "            + ' to learn more about interactive tables.';\n",
              "          element.innerHTML = '';\n",
              "          dataTable['output_type'] = 'display_data';\n",
              "          await google.colab.output.renderOutput(dataTable, element);\n",
              "          const docLink = document.createElement('div');\n",
              "          docLink.innerHTML = docLinkHtml;\n",
              "          element.appendChild(docLink);\n",
              "        }\n",
              "      </script>\n",
              "    </div>\n",
              "  </div>\n",
              "  "
            ]
          },
          "metadata": {},
          "execution_count": 29
        }
      ]
    },
    {
      "cell_type": "code",
      "source": [
        "metrics.accuracy_score( tree_test_pred.actual, tree_test_pred.predicted )"
      ],
      "metadata": {
        "colab": {
          "base_uri": "https://localhost:8080/"
        },
        "id": "DBRvrFIyx0vB",
        "outputId": "030f6ef9-f2af-4daa-cc09-688a4760f670"
      },
      "execution_count": null,
      "outputs": [
        {
          "output_type": "execute_result",
          "data": {
            "text/plain": [
              "0.8"
            ]
          },
          "metadata": {},
          "execution_count": 30
        }
      ]
    },
    {
      "cell_type": "code",
      "source": [
        "tree_cm = metrics.confusion_matrix( tree_test_pred.predicted,\n",
        "                                 tree_test_pred.actual,\n",
        "                                 [1,0] )\n",
        "sns.heatmap(tree_cm, annot=True,\n",
        "         fmt='.2f',\n",
        "         xticklabels = [\"Yes\", \"No\"] , yticklabels = [\"Yes\", \"No\"] )\n",
        "\n",
        "plt.ylabel('True label')\n",
        "plt.xlabel('Predicted label')"
      ],
      "metadata": {
        "colab": {
          "base_uri": "https://localhost:8080/",
          "height": 300
        },
        "id": "ZB56mtqDx2B6",
        "outputId": "1fb1f9bb-aaaf-4776-e091-07c4ace52d6b"
      },
      "execution_count": null,
      "outputs": [
        {
          "output_type": "execute_result",
          "data": {
            "text/plain": [
              "Text(0.5, 15.0, 'Predicted label')"
            ]
          },
          "metadata": {},
          "execution_count": 31
        },
        {
          "output_type": "display_data",
          "data": {
            "text/plain": [
              "<Figure size 432x288 with 2 Axes>"
            ],
            "image/png": "[encoded data removed]"
          },
          "metadata": {
            "needs_background": "light"
          }
        }
      ]
    },
    {
      "cell_type": "code",
      "source": [
        ""
      ],
      "metadata": {
        "id": "WDXhcj0Kx655"
      },
      "execution_count": null,
      "outputs": []
    }
  ]
}