{
  "nbformat": 4,
  "nbformat_minor": 0,
  "metadata": {
    "colab": {
      "name": "CNNCovid19ClassificationPrediction.ipynb",
      "provenance": []
    },
    "kernelspec": {
      "name": "python3",
      "display_name": "Python 3"
    },
    "language_info": {
      "name": "python"
    }
  },
  "cells": [
    {
      "cell_type": "code",
      "execution_count": 1,
      "metadata": {
        "colab": {
          "base_uri": "https://localhost:8080/"
        },
        "id": "88FsVlMCa16r",
        "outputId": "d4f672e0-3d0b-4cdd-b7aa-501493bd6417"
      },
      "outputs": [
        {
          "output_type": "stream",
          "name": "stdout",
          "text": [
            "Drive already mounted at /content/drive; to attempt to forcibly remount, call drive.mount(\"/content/drive\", force_remount=True).\n"
          ]
        }
      ],
      "source": [
        "from google.colab import drive\n",
        "drive.mount('/content/drive')"
      ]
    },
    {
      "cell_type": "code",
      "source": [
        "images = '/content/drive/MyDrive/Colab Notebooks/chest_xray/chest_xray/train'"
      ],
      "metadata": {
        "id": "aqguS7Uca_cM"
      },
      "execution_count": 26,
      "outputs": []
    },
    {
      "cell_type": "code",
      "source": [
        "import os\n",
        "import matplotlib.pyplot as plt\n",
        "import numpy as np"
      ],
      "metadata": {
        "id": "bEEdXShLbOmb"
      },
      "execution_count": 21,
      "outputs": []
    },
    {
      "cell_type": "code",
      "source": [
        "folders = os.listdir(images)\n",
        "print(folders)"
      ],
      "metadata": {
        "colab": {
          "base_uri": "https://localhost:8080/"
        },
        "id": "t2ZDN0jobKIk",
        "outputId": "fac6ad7f-a97d-4d63-cdbf-99d38810bf30"
      },
      "execution_count": 27,
      "outputs": [
        {
          "output_type": "stream",
          "name": "stdout",
          "text": [
            "['NORMAL', 'PNEUMONIA']\n"
          ]
        }
      ]
    },
    {
      "cell_type": "code",
      "source": [
        "image_data = []\n",
        "labels = []"
      ],
      "metadata": {
        "id": "citapVcadbu7"
      },
      "execution_count": 28,
      "outputs": []
    },
    {
      "cell_type": "code",
      "source": [
        "label_dict = {\n",
        "    'PNEUMONIA':0,\n",
        "    'NORMAL':1   \n",
        "}"
      ],
      "metadata": {
        "id": "APcWhRiXdcy8"
      },
      "execution_count": 29,
      "outputs": []
    },
    {
      "cell_type": "code",
      "source": [
        "from keras.preprocessing import image\n",
        "\n",
        "for ix in folders:\n",
        "    path = os.path.join(images,ix)\n",
        "    for im in os.listdir(path):\n",
        "        img = image.load_img(os.path.join(path,im),target_size=((224,224)))\n",
        "        img_array = image.img_to_array(img)\n",
        "        image_data.append(img_array)\n",
        "        labels.append(label_dict[ix])"
      ],
      "metadata": {
        "id": "jrdvxdPtdiLr"
      },
      "execution_count": 30,
      "outputs": []
    },
    {
      "cell_type": "code",
      "source": [
        "print(len(image_data),len(labels))"
      ],
      "metadata": {
        "colab": {
          "base_uri": "https://localhost:8080/"
        },
        "id": "NSBa_xE0e34c",
        "outputId": "d5327ce5-6cc5-4744-bc6c-91c72e490b7f"
      },
      "execution_count": 31,
      "outputs": [
        {
          "output_type": "stream",
          "name": "stdout",
          "text": [
            "510 510\n"
          ]
        }
      ]
    },
    {
      "cell_type": "code",
      "source": [
        "import random\n",
        "combined = list(zip(image_data,labels))\n",
        "random.shuffle(combined)\n",
        "image_data[:],labels[:]=zip(*combined)"
      ],
      "metadata": {
        "id": "G7kNsgpie7Db"
      },
      "execution_count": 32,
      "outputs": []
    },
    {
      "cell_type": "code",
      "source": [
        "print(labels)"
      ],
      "metadata": {
        "colab": {
          "base_uri": "https://localhost:8080/"
        },
        "id": "GgOT5_pWe-AL",
        "outputId": "426683c6-da49-4b3e-f966-fc5fa4c2fee1"
      },
      "execution_count": 33,
      "outputs": [
        {
          "output_type": "stream",
          "name": "stdout",
          "text": [
            "[1, 1, 1, 1, 1, 1, 1, 1, 1, 1, 1, 1, 1, 1, 1, 1, 1, 1, 1, 1, 1, 1, 1, 1, 1, 1, 1, 1, 1, 1, 1, 0, 1, 1, 1, 1, 1, 1, 1, 1, 1, 1, 1, 1, 1, 1, 1, 1, 1, 1, 1, 1, 1, 1, 1, 0, 1, 1, 0, 1, 0, 0, 1, 1, 1, 1, 1, 1, 1, 1, 1, 1, 1, 1, 1, 0, 1, 1, 1, 1, 1, 1, 1, 1, 1, 1, 1, 1, 1, 1, 1, 1, 1, 1, 1, 1, 1, 1, 1, 1, 1, 1, 0, 1, 1, 1, 1, 1, 1, 1, 1, 1, 0, 1, 1, 1, 1, 1, 0, 1, 1, 1, 1, 1, 1, 0, 1, 1, 1, 1, 0, 1, 1, 1, 1, 1, 1, 1, 1, 1, 1, 1, 1, 0, 1, 1, 1, 1, 1, 1, 1, 1, 1, 1, 1, 1, 1, 1, 1, 0, 1, 1, 1, 1, 1, 1, 1, 1, 1, 1, 1, 0, 1, 1, 1, 1, 1, 1, 1, 1, 1, 1, 1, 1, 1, 1, 1, 1, 1, 1, 1, 1, 0, 1, 1, 1, 1, 1, 1, 1, 1, 1, 1, 1, 1, 0, 1, 1, 1, 1, 1, 1, 1, 1, 1, 1, 1, 1, 0, 1, 1, 1, 1, 1, 1, 1, 1, 1, 1, 1, 1, 1, 1, 1, 1, 1, 1, 1, 1, 1, 1, 1, 1, 1, 0, 1, 1, 1, 1, 1, 1, 0, 1, 1, 1, 1, 1, 1, 1, 1, 1, 1, 0, 1, 0, 1, 1, 0, 1, 1, 1, 1, 1, 1, 1, 1, 1, 1, 1, 1, 1, 1, 1, 1, 1, 1, 1, 1, 1, 1, 1, 1, 1, 1, 1, 1, 0, 1, 0, 1, 1, 1, 1, 1, 1, 1, 0, 1, 1, 1, 1, 1, 1, 0, 1, 1, 1, 1, 1, 1, 1, 1, 1, 1, 1, 1, 0, 1, 1, 1, 1, 1, 1, 1, 1, 1, 0, 1, 0, 1, 1, 1, 1, 1, 1, 1, 1, 1, 1, 1, 1, 1, 1, 1, 1, 1, 1, 1, 1, 1, 1, 1, 1, 1, 1, 1, 1, 1, 1, 1, 1, 1, 1, 1, 1, 1, 1, 1, 1, 1, 0, 1, 1, 1, 0, 1, 0, 1, 1, 1, 1, 1, 1, 1, 1, 1, 1, 1, 1, 1, 1, 1, 1, 1, 1, 1, 1, 1, 0, 1, 0, 1, 1, 1, 1, 1, 1, 1, 1, 1, 1, 1, 1, 1, 1, 0, 1, 1, 1, 1, 1, 1, 1, 1, 1, 1, 1, 0, 1, 1, 1, 1, 1, 1, 1, 1, 1, 1, 0, 1, 1, 1, 1, 1, 0, 1, 1, 1, 1, 1, 1, 1, 1, 1, 1, 1, 1, 1, 1, 1, 1, 1, 1, 1, 1, 1, 0, 1, 0, 1, 1, 1, 1, 1, 1, 1, 1, 1, 1, 1, 1, 1, 1, 1, 1, 1, 1, 1, 1, 1, 1, 1, 1, 1, 1, 1, 1, 1, 1, 1]\n"
          ]
        }
      ]
    },
    {
      "cell_type": "code",
      "source": [
        "x_train = np.array(image_data)\n",
        "y_train = np.array(labels)\n",
        "\n",
        "print(x_train.shape,y_train.shape)"
      ],
      "metadata": {
        "colab": {
          "base_uri": "https://localhost:8080/"
        },
        "id": "iDPo4bKOfCID",
        "outputId": "2e978e27-e8ea-43b4-9fa1-4e0df8bec997"
      },
      "execution_count": 34,
      "outputs": [
        {
          "output_type": "stream",
          "name": "stdout",
          "text": [
            "(510, 224, 224, 3) (510,)\n"
          ]
        }
      ]
    },
    {
      "cell_type": "code",
      "source": [
        "from keras.utils import np_utils\n",
        "\n",
        "y_train = np_utils.to_categorical(y_train)\n",
        "print(x_train.shape,y_train.shape)"
      ],
      "metadata": {
        "colab": {
          "base_uri": "https://localhost:8080/"
        },
        "id": "4ojoTdBHfDQD",
        "outputId": "e97f44aa-f752-4b3e-d2f9-41ee95fb62ff"
      },
      "execution_count": 35,
      "outputs": [
        {
          "output_type": "stream",
          "name": "stdout",
          "text": [
            "(510, 224, 224, 3) (510, 2)\n"
          ]
        }
      ]
    },
    {
      "cell_type": "code",
      "source": [
        "from keras.preprocessing.image import ImageDataGenerator"
      ],
      "metadata": {
        "id": "K3rdIMzafHdr"
      },
      "execution_count": 36,
      "outputs": []
    },
    {
      "cell_type": "code",
      "source": [
        "augment = ImageDataGenerator( \n",
        "                              rotation_range=20,\n",
        "                              width_shift_range=0.01, \n",
        "                              height_shift_range=0.01, \n",
        "                              horizontal_flip=False, \n",
        "                              vertical_flip=False,\n",
        "                            )\n",
        "augment.fit(x_train)"
      ],
      "metadata": {
        "id": "nGHDhVU8fIfD"
      },
      "execution_count": 37,
      "outputs": []
    },
    {
      "cell_type": "code",
      "source": [
        "from tensorflow.keras.optimizers import Adam\n",
        "from tensorflow.keras.layers import *\n",
        "from tensorflow.keras.models import Sequential\n",
        "from tensorflow.keras.callbacks import ModelCheckpoint\n",
        "from tensorflow.keras.regularizers import l2"
      ],
      "metadata": {
        "id": "GJz_uJAYfLWT"
      },
      "execution_count": 38,
      "outputs": []
    },
    {
      "cell_type": "code",
      "source": [
        "model = Sequential()\n",
        "\n",
        "\n",
        "model.add(Conv2D(filters=16, kernel_size=(3,3),input_shape=(224,224,3), activation='relu',kernel_regularizer=l2(0.01)))\n",
        "model.add(MaxPool2D(pool_size=(2, 2)))\n",
        "\n",
        "model.add(Conv2D(filters=32, kernel_size=(3,3),input_shape=(224,224,3), activation='relu',kernel_regularizer=l2(0.01)))\n",
        "model.add(MaxPool2D(pool_size=(2, 2)))\n",
        "\n",
        "model.add(Conv2D(filters=64, kernel_size=(3,3),input_shape=(224,224,3), activation='relu',kernel_regularizer=l2(0.01)))\n",
        "model.add(MaxPool2D(pool_size=(2, 2)))\n",
        "\n",
        "model.add(Conv2D(filters=64, kernel_size=(3,3),input_shape=(224,224,3), activation='relu',kernel_regularizer=l2(0.01)))\n",
        "model.add(MaxPool2D(pool_size=(2, 2)))\n",
        "\n",
        "\n",
        "model.add(Flatten())\n",
        "\n",
        "model.add(Dense(224))\n",
        "model.add(Activation('relu'))\n",
        "\n",
        "model.add(Dropout(0.5))\n",
        "\n",
        "model.add(Dense(2))\n",
        "model.add(Activation('sigmoid'))\n",
        "\n",
        "model.compile(loss='binary_crossentropy',\n",
        "              optimizer='adam',\n",
        "              metrics=['accuracy'])\n",
        "filepath=\"covid_detection.hdf5\"\n",
        "checkpoint = ModelCheckpoint(filepath, monitor='val_loss', verbose=2, save_best_only=True, mode='min',patience=3)\n",
        "callbacks_list = [checkpoint]"
      ],
      "metadata": {
        "id": "5QM7SriffO3z"
      },
      "execution_count": 39,
      "outputs": []
    },
    {
      "cell_type": "code",
      "source": [
        "model.summary()"
      ],
      "metadata": {
        "colab": {
          "base_uri": "https://localhost:8080/"
        },
        "id": "NJr0awH8fUVb",
        "outputId": "123c4052-821b-4117-fc85-1f0cd8c38bae"
      },
      "execution_count": 40,
      "outputs": [
        {
          "output_type": "stream",
          "name": "stdout",
          "text": [
            "Model: \"sequential\"\n",
            "_________________________________________________________________\n",
            " Layer (type)                Output Shape              Param #   \n",
            "=================================================================\n",
            " conv2d (Conv2D)             (None, 222, 222, 16)      448       \n",
            "                                                                 \n",
            " max_pooling2d (MaxPooling2D  (None, 111, 111, 16)     0         \n",
            " )                                                               \n",
            "                                                                 \n",
            " conv2d_1 (Conv2D)           (None, 109, 109, 32)      4640      \n",
            "                                                                 \n",
            " max_pooling2d_1 (MaxPooling  (None, 54, 54, 32)       0         \n",
            " 2D)                                                             \n",
            "                                                                 \n",
            " conv2d_2 (Conv2D)           (None, 52, 52, 64)        18496     \n",
            "                                                                 \n",
            " max_pooling2d_2 (MaxPooling  (None, 26, 26, 64)       0         \n",
            " 2D)                                                             \n",
            "                                                                 \n",
            " conv2d_3 (Conv2D)           (None, 24, 24, 64)        36928     \n",
            "                                                                 \n",
            " max_pooling2d_3 (MaxPooling  (None, 12, 12, 64)       0         \n",
            " 2D)                                                             \n",
            "                                                                 \n",
            " flatten (Flatten)           (None, 9216)              0         \n",
            "                                                                 \n",
            " dense (Dense)               (None, 224)               2064608   \n",
            "                                                                 \n",
            " activation (Activation)     (None, 224)               0         \n",
            "                                                                 \n",
            " dropout (Dropout)           (None, 224)               0         \n",
            "                                                                 \n",
            " dense_1 (Dense)             (None, 2)                 450       \n",
            "                                                                 \n",
            " activation_1 (Activation)   (None, 2)                 0         \n",
            "                                                                 \n",
            "=================================================================\n",
            "Total params: 2,125,570\n",
            "Trainable params: 2,125,570\n",
            "Non-trainable params: 0\n",
            "_________________________________________________________________\n"
          ]
        }
      ]
    },
    {
      "cell_type": "code",
      "source": [
        "hist = model.fit(x_train,y_train,\n",
        "                    batch_size=32,\n",
        "                    epochs = 25,\n",
        "                    validation_split = 0.10,callbacks=callbacks_list)"
      ],
      "metadata": {
        "colab": {
          "base_uri": "https://localhost:8080/"
        },
        "id": "VHTmwxiWfXe7",
        "outputId": "e4ea7945-0fd1-4c69-f174-39d78e604b89"
      },
      "execution_count": 41,
      "outputs": [
        {
          "output_type": "stream",
          "name": "stdout",
          "text": [
            "Epoch 1/25\n",
            "15/15 [==============================] - ETA: 0s - loss: 5.3093 - accuracy: 0.8366\n",
            "Epoch 1: val_loss improved from inf to 1.28544, saving model to covid_detection.hdf5\n",
            "15/15 [==============================] - 27s 2s/step - loss: 5.3093 - accuracy: 0.8366 - val_loss: 1.2854 - val_accuracy: 0.9608\n",
            "Epoch 2/25\n",
            "15/15 [==============================] - ETA: 0s - loss: 1.2428 - accuracy: 0.9455\n",
            "Epoch 2: val_loss improved from 1.28544 to 1.09563, saving model to covid_detection.hdf5\n",
            "15/15 [==============================] - 24s 2s/step - loss: 1.2428 - accuracy: 0.9455 - val_loss: 1.0956 - val_accuracy: 1.0000\n",
            "Epoch 3/25\n",
            "15/15 [==============================] - ETA: 0s - loss: 1.0394 - accuracy: 0.9847\n",
            "Epoch 3: val_loss improved from 1.09563 to 0.96046, saving model to covid_detection.hdf5\n",
            "15/15 [==============================] - 31s 2s/step - loss: 1.0394 - accuracy: 0.9847 - val_loss: 0.9605 - val_accuracy: 1.0000\n",
            "Epoch 4/25\n",
            "15/15 [==============================] - ETA: 0s - loss: 0.9363 - accuracy: 0.9869\n",
            "Epoch 4: val_loss improved from 0.96046 to 0.87238, saving model to covid_detection.hdf5\n",
            "15/15 [==============================] - 24s 1s/step - loss: 0.9363 - accuracy: 0.9869 - val_loss: 0.8724 - val_accuracy: 1.0000\n",
            "Epoch 5/25\n",
            "15/15 [==============================] - ETA: 0s - loss: 0.8460 - accuracy: 0.9956\n",
            "Epoch 5: val_loss improved from 0.87238 to 0.81764, saving model to covid_detection.hdf5\n",
            "15/15 [==============================] - 21s 1s/step - loss: 0.8460 - accuracy: 0.9956 - val_loss: 0.8176 - val_accuracy: 1.0000\n",
            "Epoch 6/25\n",
            "15/15 [==============================] - ETA: 0s - loss: 0.7970 - accuracy: 0.9935\n",
            "Epoch 6: val_loss improved from 0.81764 to 0.76274, saving model to covid_detection.hdf5\n",
            "15/15 [==============================] - 21s 1s/step - loss: 0.7970 - accuracy: 0.9935 - val_loss: 0.7627 - val_accuracy: 1.0000\n",
            "Epoch 7/25\n",
            "15/15 [==============================] - ETA: 0s - loss: 0.7405 - accuracy: 0.9956\n",
            "Epoch 7: val_loss did not improve from 0.76274\n",
            "15/15 [==============================] - 21s 1s/step - loss: 0.7405 - accuracy: 0.9956 - val_loss: 0.8361 - val_accuracy: 0.9608\n",
            "Epoch 8/25\n",
            "15/15 [==============================] - ETA: 0s - loss: 0.6997 - accuracy: 0.9978\n",
            "Epoch 8: val_loss improved from 0.76274 to 0.67527, saving model to covid_detection.hdf5\n",
            "15/15 [==============================] - 22s 1s/step - loss: 0.6997 - accuracy: 0.9978 - val_loss: 0.6753 - val_accuracy: 1.0000\n",
            "Epoch 9/25\n",
            "15/15 [==============================] - ETA: 0s - loss: 0.6574 - accuracy: 1.0000\n",
            "Epoch 9: val_loss improved from 0.67527 to 0.67260, saving model to covid_detection.hdf5\n",
            "15/15 [==============================] - 21s 1s/step - loss: 0.6574 - accuracy: 1.0000 - val_loss: 0.6726 - val_accuracy: 0.9804\n",
            "Epoch 10/25\n",
            "15/15 [==============================] - ETA: 0s - loss: 0.6272 - accuracy: 1.0000\n",
            "Epoch 10: val_loss improved from 0.67260 to 0.61239, saving model to covid_detection.hdf5\n",
            "15/15 [==============================] - 21s 1s/step - loss: 0.6272 - accuracy: 1.0000 - val_loss: 0.6124 - val_accuracy: 1.0000\n",
            "Epoch 11/25\n",
            "15/15 [==============================] - ETA: 0s - loss: 0.6179 - accuracy: 0.9956\n",
            "Epoch 11: val_loss did not improve from 0.61239\n",
            "15/15 [==============================] - 21s 1s/step - loss: 0.6179 - accuracy: 0.9956 - val_loss: 0.6129 - val_accuracy: 1.0000\n",
            "Epoch 12/25\n",
            "15/15 [==============================] - ETA: 0s - loss: 0.5933 - accuracy: 0.9956\n",
            "Epoch 12: val_loss improved from 0.61239 to 0.58421, saving model to covid_detection.hdf5\n",
            "15/15 [==============================] - 21s 1s/step - loss: 0.5933 - accuracy: 0.9956 - val_loss: 0.5842 - val_accuracy: 1.0000\n",
            "Epoch 13/25\n",
            "15/15 [==============================] - ETA: 0s - loss: 0.5701 - accuracy: 0.9978\n",
            "Epoch 13: val_loss improved from 0.58421 to 0.55347, saving model to covid_detection.hdf5\n",
            "15/15 [==============================] - 21s 1s/step - loss: 0.5701 - accuracy: 0.9978 - val_loss: 0.5535 - val_accuracy: 1.0000\n",
            "Epoch 14/25\n",
            "15/15 [==============================] - ETA: 0s - loss: 0.5717 - accuracy: 0.9956\n",
            "Epoch 14: val_loss did not improve from 0.55347\n",
            "15/15 [==============================] - 21s 1s/step - loss: 0.5717 - accuracy: 0.9956 - val_loss: 0.7125 - val_accuracy: 0.9412\n",
            "Epoch 15/25\n",
            "15/15 [==============================] - ETA: 0s - loss: 0.5804 - accuracy: 0.9869\n",
            "Epoch 15: val_loss did not improve from 0.55347\n",
            "15/15 [==============================] - 21s 1s/step - loss: 0.5804 - accuracy: 0.9869 - val_loss: 0.6109 - val_accuracy: 0.9608\n",
            "Epoch 16/25\n",
            "15/15 [==============================] - ETA: 0s - loss: 0.5553 - accuracy: 0.9869\n",
            "Epoch 16: val_loss improved from 0.55347 to 0.52965, saving model to covid_detection.hdf5\n",
            "15/15 [==============================] - 21s 1s/step - loss: 0.5553 - accuracy: 0.9869 - val_loss: 0.5297 - val_accuracy: 1.0000\n",
            "Epoch 17/25\n",
            "15/15 [==============================] - ETA: 0s - loss: 0.5178 - accuracy: 0.9978\n",
            "Epoch 17: val_loss improved from 0.52965 to 0.51226, saving model to covid_detection.hdf5\n",
            "15/15 [==============================] - 21s 1s/step - loss: 0.5178 - accuracy: 0.9978 - val_loss: 0.5123 - val_accuracy: 1.0000\n",
            "Epoch 18/25\n",
            "15/15 [==============================] - ETA: 0s - loss: 0.5069 - accuracy: 0.9978\n",
            "Epoch 18: val_loss improved from 0.51226 to 0.49232, saving model to covid_detection.hdf5\n",
            "15/15 [==============================] - 21s 1s/step - loss: 0.5069 - accuracy: 0.9978 - val_loss: 0.4923 - val_accuracy: 1.0000\n",
            "Epoch 19/25\n",
            "15/15 [==============================] - ETA: 0s - loss: 0.4889 - accuracy: 1.0000\n",
            "Epoch 19: val_loss improved from 0.49232 to 0.47916, saving model to covid_detection.hdf5\n",
            "15/15 [==============================] - 21s 1s/step - loss: 0.4889 - accuracy: 1.0000 - val_loss: 0.4792 - val_accuracy: 1.0000\n",
            "Epoch 20/25\n",
            "15/15 [==============================] - ETA: 0s - loss: 0.5125 - accuracy: 0.9891\n",
            "Epoch 20: val_loss did not improve from 0.47916\n",
            "15/15 [==============================] - 21s 1s/step - loss: 0.5125 - accuracy: 0.9891 - val_loss: 0.4887 - val_accuracy: 1.0000\n",
            "Epoch 21/25\n",
            "15/15 [==============================] - ETA: 0s - loss: 0.5011 - accuracy: 0.9935\n",
            "Epoch 21: val_loss improved from 0.47916 to 0.45977, saving model to covid_detection.hdf5\n",
            "15/15 [==============================] - 21s 1s/step - loss: 0.5011 - accuracy: 0.9935 - val_loss: 0.4598 - val_accuracy: 1.0000\n",
            "Epoch 22/25\n",
            "15/15 [==============================] - ETA: 0s - loss: 0.4558 - accuracy: 1.0000\n",
            "Epoch 22: val_loss improved from 0.45977 to 0.44929, saving model to covid_detection.hdf5\n",
            "15/15 [==============================] - 21s 1s/step - loss: 0.4558 - accuracy: 1.0000 - val_loss: 0.4493 - val_accuracy: 1.0000\n",
            "Epoch 23/25\n",
            "15/15 [==============================] - ETA: 0s - loss: 0.4461 - accuracy: 1.0000\n",
            "Epoch 23: val_loss improved from 0.44929 to 0.43969, saving model to covid_detection.hdf5\n",
            "15/15 [==============================] - 21s 1s/step - loss: 0.4461 - accuracy: 1.0000 - val_loss: 0.4397 - val_accuracy: 1.0000\n",
            "Epoch 24/25\n",
            "15/15 [==============================] - ETA: 0s - loss: 0.4360 - accuracy: 1.0000\n",
            "Epoch 24: val_loss improved from 0.43969 to 0.42971, saving model to covid_detection.hdf5\n",
            "15/15 [==============================] - 21s 1s/step - loss: 0.4360 - accuracy: 1.0000 - val_loss: 0.4297 - val_accuracy: 1.0000\n",
            "Epoch 25/25\n",
            "15/15 [==============================] - ETA: 0s - loss: 0.4260 - accuracy: 1.0000\n",
            "Epoch 25: val_loss improved from 0.42971 to 0.42052, saving model to covid_detection.hdf5\n",
            "15/15 [==============================] - 21s 1s/step - loss: 0.4260 - accuracy: 1.0000 - val_loss: 0.4205 - val_accuracy: 1.0000\n"
          ]
        }
      ]
    },
    {
      "cell_type": "code",
      "source": [
        "plt.figure(1, figsize = (15, 5))\n",
        "plt.subplot(1,2,1)\n",
        "plt.xlabel(\"Epochs\")\n",
        "plt.ylabel(\"Loss\")\n",
        "plt.plot( hist.history[\"loss\"], label = \"Training Loss\")\n",
        "plt.plot( hist.history[\"val_loss\"], label = \"Validation Loss\")\n",
        "plt.grid(True)\n",
        "plt.legend()\n",
        "\n",
        "plt.subplot(1,2,2)\n",
        "plt.xlabel(\"Epochs\")\n",
        "plt.ylabel(\"Accuracy\")\n",
        "plt.plot( hist.history[\"accuracy\"], label = \"Training Accuracy\")\n",
        "plt.plot( hist.history[\"val_accuracy\"], label = \"Validation Accuracy\")\n",
        "plt.grid(True)\n",
        "plt.legend()\n",
        "plt.show()"
      ],
      "metadata": {
        "colab": {
          "base_uri": "https://localhost:8080/",
          "height": 334
        },
        "id": "GI9zScUjfcDT",
        "outputId": "b92836fd-19f9-4c2f-ff0c-e568821cab9d"
      },
      "execution_count": 42,
      "outputs": [
        {
          "output_type": "display_data",
          "data": {
            "text/plain": [
              "<Figure size 1080x360 with 2 Axes>"
            ],
            "image/png": "[encoded data removed]"
          },
          "metadata": {
            "needs_background": "light"
          }
        }
      ]
    },
    {
      "cell_type": "code",
      "source": [
        "test_images = \"/content/drive/MyDrive/Colab Notebooks/chest_xray/chest_xray/test\"\n",
        "\n",
        "test_image_data = []\n",
        "test_labels = []\n",
        "\n",
        "test_folders = os.listdir(test_images)\n",
        "print(test_folders)\n",
        "\n",
        "label_dict = {\n",
        "    'PNEUMONIA':0,\n",
        "    'NORMAL':1\n",
        "}\n",
        "\n",
        "from keras.preprocessing import image\n",
        "\n",
        "for ix in test_folders:\n",
        "    path = os.path.join(test_images,ix)\n",
        "    for im in os.listdir(path):\n",
        "        img = image.load_img(os.path.join(path,im),target_size = ((224,224)))\n",
        "        img_array = image.img_to_array(img)\n",
        "        test_image_data.append(img_array)\n",
        "        test_labels.append(label_dict[ix])\n",
        "        \n",
        "\n",
        "combined = list(zip(test_image_data,test_labels))\n",
        "test_image_data[:],test_labels[:] = zip(*combined)\n",
        "\n",
        "x_test = np.array(test_image_data)\n",
        "y_test = np.array(test_labels)\n",
        "\n",
        "from keras.utils import np_utils\n",
        "\n",
        "y_test = np_utils.to_categorical(y_test)\n",
        "print(x_test.shape,y_test.shape)"
      ],
      "metadata": {
        "colab": {
          "base_uri": "https://localhost:8080/"
        },
        "id": "Gb7PeFUEfcpb",
        "outputId": "78e69c9a-ce34-44e0-df93-2106457f461b"
      },
      "execution_count": 44,
      "outputs": [
        {
          "output_type": "stream",
          "name": "stdout",
          "text": [
            "['PNEUMONIA', 'NORMAL']\n",
            "(624, 224, 224, 3) (624, 2)\n"
          ]
        }
      ]
    },
    {
      "cell_type": "code",
      "source": [
        "model.evaluate(x_test,y_test)"
      ],
      "metadata": {
        "colab": {
          "base_uri": "https://localhost:8080/"
        },
        "id": "KFiCXVP6fgyK",
        "outputId": "d5b785f2-b21f-461a-a618-102875938b23"
      },
      "execution_count": 45,
      "outputs": [
        {
          "output_type": "stream",
          "name": "stdout",
          "text": [
            "20/20 [==============================] - 8s 405ms/step - loss: 11.8324 - accuracy: 0.3622\n"
          ]
        },
        {
          "output_type": "execute_result",
          "data": {
            "text/plain": [
              "[11.832366943359375, 0.3621794879436493]"
            ]
          },
          "metadata": {},
          "execution_count": 45
        }
      ]
    },
    {
      "cell_type": "code",
      "source": [
        "from sklearn.metrics import classification_report,confusion_matrix"
      ],
      "metadata": {
        "id": "HBrb8nXffjeb"
      },
      "execution_count": 46,
      "outputs": []
    },
    {
      "cell_type": "code",
      "source": [
        "predictions = model.predict(x_test, batch_size = 32)\n",
        "pred = np.argmax(predictions, axis=1)"
      ],
      "metadata": {
        "id": "bhFhtmdvfmbz"
      },
      "execution_count": 47,
      "outputs": []
    },
    {
      "cell_type": "code",
      "source": [
        "print(classification_report(test_labels, pred))"
      ],
      "metadata": {
        "colab": {
          "base_uri": "https://localhost:8080/"
        },
        "id": "vdypdgbEfocD",
        "outputId": "39aee1ce-477f-49ca-82f0-524998ebbdac"
      },
      "execution_count": 48,
      "outputs": [
        {
          "output_type": "stream",
          "name": "stdout",
          "text": [
            "              precision    recall  f1-score   support\n",
            "\n",
            "           0       0.39      0.04      0.07       390\n",
            "           1       0.36      0.90      0.51       234\n",
            "\n",
            "    accuracy                           0.36       624\n",
            "   macro avg       0.38      0.47      0.29       624\n",
            "weighted avg       0.38      0.36      0.24       624\n",
            "\n"
          ]
        }
      ]
    },
    {
      "cell_type": "code",
      "source": [
        "import pandas as pd\n",
        "cm = confusion_matrix(test_labels, pred)\n",
        "cm_df = pd.DataFrame(cm,\n",
        "                     index = ['0','1'], \n",
        "                     columns = ['0','1'])"
      ],
      "metadata": {
        "id": "CCf6mlifiG8b"
      },
      "execution_count": 54,
      "outputs": []
    },
    {
      "cell_type": "code",
      "source": [
        "\n",
        "import seaborn as sns\n",
        "plt.figure(figsize=(5,4))\n",
        "sns.heatmap(cm_df, annot=True)\n",
        "plt.title('Confusion Matrix')\n",
        "plt.ylabel('Actual Values')\n",
        "plt.xlabel('Predicted Values')\n",
        "plt.show()"
      ],
      "metadata": {
        "colab": {
          "base_uri": "https://localhost:8080/",
          "height": 295
        },
        "id": "cjqJu4SEitHD",
        "outputId": "7e6a8f39-47de-4ab6-8404-8b4882251180"
      },
      "execution_count": 56,
      "outputs": [
        {
          "output_type": "display_data",
          "data": {
            "text/plain": [
              "<Figure size 360x288 with 2 Axes>"
            ],
            "image/png": "[encoded data removed]"
          },
          "metadata": {
            "needs_background": "light"
          }
        }
      ]
    },
    {
      "cell_type": "code",
      "source": [
        "print(confusion_matrix(test_labels, pred))"
      ],
      "metadata": {
        "colab": {
          "base_uri": "https://localhost:8080/"
        },
        "id": "Kzrojt57fr7T",
        "outputId": "847ba363-7521-4f76-a751-974c14b5e79c"
      },
      "execution_count": 52,
      "outputs": [
        {
          "output_type": "stream",
          "name": "stdout",
          "text": [
            "[[ 15 375]\n",
            " [ 23 211]]\n"
          ]
        }
      ]
    }
  ]
}